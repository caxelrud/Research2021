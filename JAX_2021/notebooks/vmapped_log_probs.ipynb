{
 "cells": [
  {
   "cell_type": "markdown",
   "metadata": {
    "id": "6umP1IKf4Dg6"
   },
   "source": [
    "# Autobatching log-densities example\n",
    "\n",
    "[![Open in Colab](https://colab.research.google.com/assets/colab-badge.svg)](https://colab.research.google.com/github/google/jax/blob/master/docs/notebooks/vmapped_log_probs.ipynb)\n",
    "\n",
    "This notebook demonstrates a simple Bayesian inference example where autobatching makes user code easier to write, easier to read, and less likely to include bugs.\n",
    "\n",
    "Inspired by a notebook by @davmre."
   ]
  },
  {
   "cell_type": "code",
   "execution_count": 1,
   "metadata": {
    "id": "8RZDkfbV3zdR"
   },
   "outputs": [],
   "source": [
    "import functools\n",
    "import itertools\n",
    "import re\n",
    "import sys\n",
    "import time\n",
    "\n",
    "from matplotlib.pyplot import *\n",
    "\n",
    "import jax\n",
    "\n",
    "from jax import lax\n",
    "import jax.numpy as jnp\n",
    "import jax.scipy as jsp\n",
    "from jax import random\n",
    "\n",
    "import numpy as np\n",
    "import scipy as sp"
   ]
  },
  {
   "cell_type": "markdown",
   "metadata": {
    "id": "p2VcZS1d34C6"
   },
   "source": [
    "## Generate a fake binary classification dataset"
   ]
  },
  {
   "cell_type": "code",
   "execution_count": 2,
   "metadata": {
    "id": "pq41hMvn4c_i"
   },
   "outputs": [],
   "source": [
    "np.random.seed(10009)\n",
    "\n",
    "num_features = 10\n",
    "num_points = 100\n",
    "\n",
    "true_beta = np.random.randn(num_features).astype(jnp.float32)\n",
    "all_x = np.random.randn(num_points, num_features).astype(jnp.float32)\n",
    "y = (np.random.rand(num_points) < sp.special.expit(all_x.dot(true_beta))).astype(jnp.int32)"
   ]
  },
  {
   "cell_type": "code",
   "execution_count": 3,
   "metadata": {
    "id": "O0nVumAw7IlT",
    "outputId": "751a3290-a81b-4538-9183-16cd685fbaf9"
   },
   "outputs": [
    {
     "data": {
      "text/plain": [
       "array([0, 0, 0, 1, 1, 1, 0, 1, 1, 1, 1, 1, 0, 1, 0, 0, 0, 1, 1, 1, 1, 0,\n",
       "       1, 0, 0, 0, 0, 0, 1, 0, 1, 0, 0, 0, 1, 0, 0, 0, 1, 0, 0, 0, 0, 0,\n",
       "       1, 1, 0, 1, 0, 0, 0, 1, 1, 0, 0, 1, 0, 0, 0, 0, 0, 1, 1, 0, 0, 0,\n",
       "       0, 1, 1, 0, 0, 0, 1, 1, 1, 1, 1, 1, 0, 0, 0, 1, 1, 0, 1, 0, 1, 1,\n",
       "       1, 0, 1, 0, 0, 0, 0, 1, 0, 1, 0, 0])"
      ]
     },
     "execution_count": 3,
     "metadata": {},
     "output_type": "execute_result"
    }
   ],
   "source": [
    "y"
   ]
  },
  {
   "cell_type": "markdown",
   "metadata": {
    "id": "DZRVvhpn5aB1"
   },
   "source": [
    "## Write the log-joint function for the model\n",
    "\n",
    "We'll write a non-batched version, a manually batched version, and an autobatched version."
   ]
  },
  {
   "cell_type": "markdown",
   "metadata": {
    "id": "C_mDXInL7nsP"
   },
   "source": [
    "### Non-batched"
   ]
  },
  {
   "cell_type": "code",
   "execution_count": 4,
   "metadata": {
    "id": "ZHyL2sJh5ajG"
   },
   "outputs": [],
   "source": [
    "def log_joint(beta):\n",
    "    result = 0.\n",
    "    # Note that no `axis` parameter is provided to `jnp.sum`.\n",
    "    result = result + jnp.sum(jsp.stats.norm.logpdf(beta, loc=0., scale=1.))\n",
    "    result = result + jnp.sum(-jnp.log(1 + jnp.exp(-(2*y-1) * jnp.dot(all_x, beta))))\n",
    "    return result"
   ]
  },
  {
   "cell_type": "code",
   "execution_count": 5,
   "metadata": {
    "id": "e51qW0ro6J7C",
    "outputId": "2ec6bbbd-12ee-45bc-af76-5111c53e4d5a"
   },
   "outputs": [
    {
     "data": {
      "text/plain": [
       "DeviceArray(-213.2356, dtype=float32)"
      ]
     },
     "execution_count": 5,
     "metadata": {},
     "output_type": "execute_result"
    }
   ],
   "source": [
    "log_joint(np.random.randn(num_features))"
   ]
  },
  {
   "cell_type": "code",
   "execution_count": 6,
   "metadata": {
    "id": "fglQXK1Y6wnm",
    "outputId": "2b934336-08ad-4776-9a58-aa575bf601eb"
   },
   "outputs": [
    {
     "name": "stdout",
     "output_type": "stream",
     "text": [
      "Caught expected exception Incompatible shapes for broadcasting: ((100, 10), (1, 100))\n"
     ]
    }
   ],
   "source": [
    "# This doesn't work, because we didn't write `log_prob()` to handle batching.\n",
    "try:\n",
    "  batch_size = 10\n",
    "  batched_test_beta = np.random.randn(batch_size, num_features)\n",
    "\n",
    "  log_joint(np.random.randn(batch_size, num_features))\n",
    "except ValueError as e:\n",
    "  print(\"Caught expected exception \" + str(e))"
   ]
  },
  {
   "cell_type": "markdown",
   "metadata": {
    "id": "_lQ8MnKq7sLU"
   },
   "source": [
    "### Manually batched"
   ]
  },
  {
   "cell_type": "code",
   "execution_count": 7,
   "metadata": {
    "id": "2g5-4bQE7gRA"
   },
   "outputs": [],
   "source": [
    "def batched_log_joint(beta):\n",
    "    result = 0.\n",
    "    # Here (and below) `sum` needs an `axis` parameter. At best, forgetting to set axis\n",
    "    # or setting it incorrectly yields an error; at worst, it silently changes the\n",
    "    # semantics of the model.\n",
    "    result = result + jnp.sum(jsp.stats.norm.logpdf(beta, loc=0., scale=1.),\n",
    "                           axis=-1)\n",
    "    # Note the multiple transposes. Getting this right is not rocket science,\n",
    "    # but it's also not totally mindless. (I didn't get it right on the first\n",
    "    # try.)\n",
    "    result = result + jnp.sum(-jnp.log(1 + jnp.exp(-(2*y-1) * jnp.dot(all_x, beta.T).T)),\n",
    "                           axis=-1)\n",
    "    return result"
   ]
  },
  {
   "cell_type": "code",
   "execution_count": 8,
   "metadata": {
    "id": "KdDMr-Gy85CO",
    "outputId": "db746654-68e9-43b8-ce3b-6e5682e22eb5"
   },
   "outputs": [
    {
     "data": {
      "text/plain": [
       "DeviceArray([-147.84033 , -207.02205 , -109.26076 , -243.80832 ,\n",
       "             -163.02911 , -143.8485  , -160.28772 , -113.771706,\n",
       "             -126.60544 , -190.81992 ], dtype=float32)"
      ]
     },
     "execution_count": 8,
     "metadata": {},
     "output_type": "execute_result"
    }
   ],
   "source": [
    "batch_size = 10\n",
    "batched_test_beta = np.random.randn(batch_size, num_features)\n",
    "\n",
    "batched_log_joint(batched_test_beta)"
   ]
  },
  {
   "cell_type": "markdown",
   "metadata": {
    "id": "-uuGlHQ_85kd"
   },
   "source": [
    "### Autobatched with vmap\n",
    "\n",
    "It just works."
   ]
  },
  {
   "cell_type": "code",
   "execution_count": 9,
   "metadata": {
    "id": "SU20bouH8-Za",
    "outputId": "ee450298-982f-4b9a-bed9-a6f9b8f63d92"
   },
   "outputs": [
    {
     "data": {
      "text/plain": [
       "DeviceArray([-147.84033 , -207.02205 , -109.26076 , -243.80832 ,\n",
       "             -163.02911 , -143.8485  , -160.28772 , -113.771706,\n",
       "             -126.60544 , -190.81992 ], dtype=float32)"
      ]
     },
     "execution_count": 9,
     "metadata": {},
     "output_type": "execute_result"
    }
   ],
   "source": [
    "vmap_batched_log_joint = jax.vmap(log_joint)\n",
    "vmap_batched_log_joint(batched_test_beta)"
   ]
  },
  {
   "cell_type": "markdown",
   "metadata": {
    "id": "L1KNBo9y_yZJ"
   },
   "source": [
    "## Self-contained variational inference example\n",
    "\n",
    "A little code is copied from above."
   ]
  },
  {
   "cell_type": "markdown",
   "metadata": {
    "id": "lQTPaaQMJh8Y"
   },
   "source": [
    "### Set up the (batched) log-joint function"
   ]
  },
  {
   "cell_type": "code",
   "execution_count": 10,
   "metadata": {
    "id": "AITXbaofA3Pm"
   },
   "outputs": [],
   "source": [
    "@jax.jit\n",
    "def log_joint(beta):\n",
    "    result = 0.\n",
    "    # Note that no `axis` parameter is provided to `jnp.sum`.\n",
    "    result = result + jnp.sum(jsp.stats.norm.logpdf(beta, loc=0., scale=10.))\n",
    "    result = result + jnp.sum(-jnp.log(1 + jnp.exp(-(2*y-1) * jnp.dot(all_x, beta))))\n",
    "    return result\n",
    "\n",
    "batched_log_joint = jax.jit(jax.vmap(log_joint))"
   ]
  },
  {
   "cell_type": "markdown",
   "metadata": {
    "id": "UmmFMQ8LJk6a"
   },
   "source": [
    "### Define the ELBO and its gradient"
   ]
  },
  {
   "cell_type": "code",
   "execution_count": 11,
   "metadata": {
    "id": "MJtnskL6BKwV"
   },
   "outputs": [],
   "source": [
    "def elbo(beta_loc, beta_log_scale, epsilon):\n",
    "    beta_sample = beta_loc + jnp.exp(beta_log_scale) * epsilon\n",
    "    return jnp.mean(batched_log_joint(beta_sample), 0) + jnp.sum(beta_log_scale - 0.5 * np.log(2*np.pi))\n",
    " \n",
    "elbo = jax.jit(elbo)\n",
    "elbo_val_and_grad = jax.jit(jax.value_and_grad(elbo, argnums=(0, 1)))"
   ]
  },
  {
   "cell_type": "markdown",
   "metadata": {
    "id": "oQC7xKYnJrp5"
   },
   "source": [
    "### Optimize the ELBO using SGD"
   ]
  },
  {
   "cell_type": "code",
   "execution_count": 12,
   "metadata": {
    "id": "9JrD5nNgH715",
    "outputId": "80bf62d8-821a-45c4-885c-528b2e449e97"
   },
   "outputs": [
    {
     "name": "stdout",
     "output_type": "stream",
     "text": [
      "0\t-180.8538818359375\n",
      "10\t-113.06045532226562\n",
      "20\t-102.73727416992188\n",
      "30\t-99.787353515625\n",
      "40\t-98.90898895263672\n",
      "50\t-98.29745483398438\n",
      "60\t-98.18633270263672\n",
      "70\t-97.57972717285156\n",
      "80\t-97.28599548339844\n",
      "90\t-97.46996307373047\n",
      "100\t-97.4771728515625\n",
      "110\t-97.5806655883789\n",
      "120\t-97.4943618774414\n",
      "130\t-97.50271606445312\n",
      "140\t-96.86396026611328\n",
      "150\t-97.44197845458984\n",
      "160\t-97.06941223144531\n",
      "170\t-96.84028625488281\n",
      "180\t-97.21336364746094\n",
      "190\t-97.56503295898438\n",
      "200\t-97.26397705078125\n",
      "210\t-97.11978912353516\n",
      "220\t-97.39595031738281\n",
      "230\t-97.16831970214844\n",
      "240\t-97.118408203125\n",
      "250\t-97.24346160888672\n",
      "260\t-97.29788970947266\n",
      "270\t-96.69285583496094\n",
      "280\t-96.96438598632812\n",
      "290\t-97.30055236816406\n",
      "300\t-96.63591766357422\n",
      "310\t-97.03518676757812\n",
      "320\t-97.52909851074219\n",
      "330\t-97.28813171386719\n",
      "340\t-97.07322692871094\n",
      "350\t-97.15620422363281\n",
      "360\t-97.25881958007812\n",
      "370\t-97.19514465332031\n",
      "380\t-97.13092041015625\n",
      "390\t-97.11727905273438\n",
      "400\t-96.938720703125\n",
      "410\t-97.26676940917969\n",
      "420\t-97.35322570800781\n",
      "430\t-97.21007537841797\n",
      "440\t-97.28434753417969\n",
      "450\t-97.16307830810547\n",
      "460\t-97.2612533569336\n",
      "470\t-97.21343994140625\n",
      "480\t-97.23998260498047\n",
      "490\t-97.14913940429688\n",
      "500\t-97.23528289794922\n",
      "510\t-96.93419647216797\n",
      "520\t-97.21209716796875\n",
      "530\t-96.82576751708984\n",
      "540\t-97.01284790039062\n",
      "550\t-96.94175720214844\n",
      "560\t-97.16521453857422\n",
      "570\t-97.2916488647461\n",
      "580\t-97.42940521240234\n",
      "590\t-97.24370574951172\n",
      "600\t-97.15223693847656\n",
      "610\t-97.49844360351562\n",
      "620\t-96.9906997680664\n",
      "630\t-96.88956451416016\n",
      "640\t-96.89968872070312\n",
      "650\t-97.137939453125\n",
      "660\t-97.43706512451172\n",
      "670\t-96.99235534667969\n",
      "680\t-97.15623474121094\n",
      "690\t-97.1869125366211\n",
      "700\t-97.11160278320312\n",
      "710\t-97.78104400634766\n",
      "720\t-97.23226165771484\n",
      "730\t-97.16206359863281\n",
      "740\t-96.99581909179688\n",
      "750\t-96.66722106933594\n",
      "760\t-97.16796875\n",
      "770\t-97.51434326171875\n",
      "780\t-97.28900909423828\n",
      "790\t-96.91226196289062\n",
      "800\t-97.1709976196289\n",
      "810\t-97.29047393798828\n",
      "820\t-97.16242218017578\n",
      "830\t-97.19105529785156\n",
      "840\t-97.56382751464844\n",
      "850\t-97.00194549560547\n",
      "860\t-96.86555480957031\n",
      "870\t-96.76338195800781\n",
      "880\t-96.83661651611328\n",
      "890\t-97.12178039550781\n",
      "900\t-97.09554290771484\n",
      "910\t-97.06824493408203\n",
      "920\t-97.11947631835938\n",
      "930\t-96.87930297851562\n",
      "940\t-97.45624542236328\n",
      "950\t-96.69278717041016\n",
      "960\t-97.29376220703125\n",
      "970\t-97.3353042602539\n",
      "980\t-97.34962463378906\n",
      "990\t-97.09675598144531\n"
     ]
    }
   ],
   "source": [
    "def normal_sample(key, shape):\n",
    "    \"\"\"Convenience function for quasi-stateful RNG.\"\"\"\n",
    "    new_key, sub_key = random.split(key)\n",
    "    return new_key, random.normal(sub_key, shape)\n",
    "\n",
    "normal_sample = jax.jit(normal_sample, static_argnums=(1,))\n",
    "\n",
    "key = random.PRNGKey(10003)\n",
    "\n",
    "beta_loc = jnp.zeros(num_features, jnp.float32)\n",
    "beta_log_scale = jnp.zeros(num_features, jnp.float32)\n",
    "\n",
    "step_size = 0.01\n",
    "batch_size = 128\n",
    "epsilon_shape = (batch_size, num_features)\n",
    "for i in range(1000):\n",
    "    key, epsilon = normal_sample(key, epsilon_shape)\n",
    "    elbo_val, (beta_loc_grad, beta_log_scale_grad) = elbo_val_and_grad(\n",
    "        beta_loc, beta_log_scale, epsilon)\n",
    "    beta_loc += step_size * beta_loc_grad\n",
    "    beta_log_scale += step_size * beta_log_scale_grad\n",
    "    if i % 10 == 0:\n",
    "        print('{}\\t{}'.format(i, elbo_val))"
   ]
  },
  {
   "cell_type": "markdown",
   "metadata": {
    "id": "b3ZAe5fJJ2KM"
   },
   "source": [
    "### Display the results\n",
    "\n",
    "Coverage isn't quite as good as we might like, but it's not bad, and nobody said variational inference was exact."
   ]
  },
  {
   "cell_type": "code",
   "execution_count": 13,
   "metadata": {
    "id": "zt1NBLoVHtOG",
    "outputId": "fb159795-e6e7-497c-e501-9933ec761af4"
   },
   "outputs": [
    {
     "data": {
      "text/plain": [
       "<matplotlib.legend.Legend at 0x161dd6a3bb0>"
      ]
     },
     "execution_count": 13,
     "metadata": {},
     "output_type": "execute_result"
    },
    {
     "data": {
      "image/png": "[encoded data removed]",
      "text/plain": [
       "<Figure size 504x504 with 1 Axes>"
      ]
     },
     "metadata": {
      "needs_background": "light"
     },
     "output_type": "display_data"
    }
   ],
   "source": [
    "figure(figsize=(7, 7))\n",
    "plot(true_beta, beta_loc, '.', label='Approximated Posterior Means')\n",
    "plot(true_beta, beta_loc + 2*jnp.exp(beta_log_scale), 'r.', label='Approximated Posterior $2\\sigma$ Error Bars')\n",
    "plot(true_beta, beta_loc - 2*jnp.exp(beta_log_scale), 'r.')\n",
    "plot_scale = 3\n",
    "plot([-plot_scale, plot_scale], [-plot_scale, plot_scale], 'k')\n",
    "xlabel('True beta')\n",
    "ylabel('Estimated beta')\n",
    "legend(loc='best')"
   ]
  }
 ],
 "metadata": {
  "@webio": {
   "lastCommId": null,
   "lastKernelId": null
  },
  "colab": {
   "collapsed_sections": [],
   "name": "vmapped_log_probs.ipynb",
   "provenance": []
  },
  "jupytext": {
   "formats": "ipynb,md:myst"
  },
  "kernelspec": {
   "display_name": "Python 3",
   "language": "python",
   "name": "python3"
  },
  "language_info": {
   "codemirror_mode": {
    "name": "ipython",
    "version": 3
   },
   "file_extension": ".py",
   "mimetype": "text/x-python",
   "name": "python",
   "nbconvert_exporter": "python",
   "pygments_lexer": "ipython3",
   "version": "3.8.5"
  }
 },
 "nbformat": 4,
 "nbformat_minor": 1
}
