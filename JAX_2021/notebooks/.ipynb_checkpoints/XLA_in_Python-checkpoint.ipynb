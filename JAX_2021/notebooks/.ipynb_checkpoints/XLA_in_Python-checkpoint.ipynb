{
 "cells": [
  {
   "cell_type": "markdown",
   "metadata": {
    "id": "sAgUgR5Mzzz2"
   },
   "source": [
    "# XLA in Python\n",
    "\n",
    "[![Open in Colab](https://colab.research.google.com/assets/colab-badge.svg)](https://colab.research.google.com/github/google/jax/blob/master/docs/notebooks/XLA_in_Python.ipynb)\n",
    "\n",
    "<img style=\"height:100px;\" src=\"https://raw.githubusercontent.com/tensorflow/tensorflow/master/tensorflow/compiler/xla/g3doc/images/xlalogo.png\"> <img style=\"height:100px;\" src=\"https://upload.wikimedia.org/wikipedia/commons/c/c3/Python-logo-notext.svg\">\n",
    "\n",
    "_Anselm Levskaya_, _Qiao Zhang_\n",
    "\n",
    "XLA is the compiler that JAX uses, and the compiler that TF uses for TPUs and will soon use for all devices, so it's worth some study.  However, it's not exactly easy to play with XLA computations directly using the raw C++ interface.  JAX exposes the underlying XLA computation builder API through a python wrapper, and makes interacting with the XLA compute model accessible for messing around and prototyping.\n",
    "\n",
    "XLA computations are built as computation graphs in HLO IR, which is then lowered to LLO that is device specific (CPU, GPU, TPU, etc.).  \n",
    "\n",
    "As end users we interact with the computational primitives offered to us by the HLO spec.\n",
    "\n",
    "**Caution:  This is a pedagogical notebook covering some low level XLA details, the APIs herein are neither public nor stable!**"
   ]
  },
  {
   "cell_type": "markdown",
   "metadata": {
    "id": "EZK5RseuvZkr"
   },
   "source": [
    "## References \n",
    "\n",
    "__xla__: the doc that defines what's in HLO - but note that the doc is incomplete and omits some ops.\n",
    "\n",
    "https://www.tensorflow.org/xla/operation_semantics\n",
    "\n",
    "more details on ops in the source code.\n",
    "\n",
    "https://github.com/tensorflow/tensorflow/blob/master/tensorflow/compiler/xla/client/xla_builder.h\n",
    "\n",
    "__python xla client__:  this is the XLA python client for JAX, and what we're using here.\n",
    "\n",
    "https://github.com/tensorflow/tensorflow/blob/master/tensorflow/compiler/xla/python/xla_client.py\n",
    "\n",
    "https://github.com/tensorflow/tensorflow/blob/master/tensorflow/compiler/xla/python/xla_client_test.py\n",
    "\n",
    "__jax__: you can see how jax interacts with the XLA compute layer for execution and JITing in these files.\n",
    "\n",
    "https://github.com/google/jax/blob/master/jax/lax.py\n",
    "\n",
    "https://github.com/google/jax/blob/master/jax/lib/xla_bridge.py\n",
    "\n",
    "https://github.com/google/jax/blob/master/jax/interpreters/xla.py"
   ]
  },
  {
   "cell_type": "markdown",
   "metadata": {
    "id": "3XR2NGmrzBGe"
   },
   "source": [
    "## Colab Setup and Imports"
   ]
  },
  {
   "cell_type": "code",
   "execution_count": 1,
   "metadata": {
    "id": "Ogo2SBd3u18P"
   },
   "outputs": [],
   "source": [
    "import numpy as np\n",
    "\n",
    "# We only need to import JAX's xla_client, not all of JAX.\n",
    "from jax.lib import xla_client as xc\n",
    "xops = xc.ops\n",
    "\n",
    "# Plotting\n",
    "import matplotlib as mpl\n",
    "from matplotlib import pyplot as plt\n",
    "from matplotlib import gridspec\n",
    "from matplotlib import rcParams\n",
    "rcParams['image.interpolation'] = 'nearest'\n",
    "rcParams['image.cmap'] = 'viridis'\n",
    "rcParams['axes.grid'] = False"
   ]
  },
  {
   "cell_type": "markdown",
   "metadata": {
    "id": "odmjXyhMuNJ5"
   },
   "source": [
    "## Simple Computations"
   ]
  },
  {
   "cell_type": "code",
   "execution_count": 2,
   "metadata": {
    "id": "UYUtxVzMYIiv",
    "outputId": "5c603ab4-0295-472c-b462-9928b2a9520d"
   },
   "outputs": [
    {
     "data": {
      "text/plain": [
       "array(0.14112, dtype=float32)"
      ]
     },
     "execution_count": 2,
     "metadata": {},
     "output_type": "execute_result"
    }
   ],
   "source": [
    "# make a computation builder\n",
    "c = xc.XlaBuilder(\"simple_scalar\")\n",
    "\n",
    "# define a parameter shape and parameter\n",
    "param_shape = xc.Shape.array_shape(np.dtype(np.float32), ())\n",
    "x = xops.Parameter(c, 0, param_shape)\n",
    "\n",
    "# define computation graph\n",
    "y = xops.Sin(x)\n",
    "\n",
    "# build computation graph\n",
    "# Keep in mind that incorrectly constructed graphs can cause \n",
    "# your notebook kernel to crash!\n",
    "computation = c.Build()\n",
    "\n",
    "# get a cpu backend\n",
    "cpu_backend = xc.get_local_backend(\"cpu\")\n",
    "\n",
    "# compile graph based on shape\n",
    "compiled_computation = cpu_backend.compile(computation)\n",
    "\n",
    "# define a host variable with above parameter shape\n",
    "host_input = np.array(3.0, dtype=np.float32)\n",
    "\n",
    "# place host variable on device and execute\n",
    "device_input = cpu_backend.buffer_from_pyval(host_input)\n",
    "device_out = compiled_computation.execute([device_input ,])\n",
    "\n",
    "# retrive the result\n",
    "device_out[0].to_py()"
   ]
  },
  {
   "cell_type": "code",
   "execution_count": 3,
   "metadata": {
    "id": "rIA-IVMVvQs2",
    "outputId": "a4d8ef32-43f3-4a48-f732-e85e158b602e"
   },
   "outputs": [
    {
     "data": {
      "text/plain": [
       "array([0.14112  , 0.7568025, 0.9589243], dtype=float32)"
      ]
     },
     "execution_count": 3,
     "metadata": {},
     "output_type": "execute_result"
    }
   ],
   "source": [
    "# same as above with vector type:\n",
    "\n",
    "c = xc.XlaBuilder(\"simple_vector\")\n",
    "param_shape = xc.Shape.array_shape(np.dtype(np.float32), (3,))\n",
    "x = xops.Parameter(c, 0, param_shape)\n",
    "\n",
    "# chain steps by reference:\n",
    "y = xops.Sin(x)\n",
    "z = xops.Abs(y)\n",
    "computation = c.Build()\n",
    "\n",
    "# get a cpu backend\n",
    "cpu_backend = xc.get_local_backend(\"cpu\")\n",
    "\n",
    "# compile graph based on shape\n",
    "compiled_computation = cpu_backend.compile(computation)\n",
    "\n",
    "host_input = np.array([3.0, 4.0, 5.0], dtype=np.float32)\n",
    "\n",
    "device_input = cpu_backend.buffer_from_pyval(host_input)\n",
    "device_out = compiled_computation.execute([device_input ,])\n",
    "\n",
    "# retrive the result\n",
    "device_out[0].to_py()"
   ]
  },
  {
   "cell_type": "markdown",
   "metadata": {
    "id": "F8kWlLaVuQ1b"
   },
   "source": [
    "## Simple While Loop"
   ]
  },
  {
   "cell_type": "code",
   "execution_count": 4,
   "metadata": {
    "id": "MDQP1qW515Ao",
    "outputId": "53245817-b5fb-4285-ee62-7eb33a822be4"
   },
   "outputs": [
    {
     "data": {
      "text/plain": [
       "array(0)"
      ]
     },
     "execution_count": 4,
     "metadata": {},
     "output_type": "execute_result"
    }
   ],
   "source": [
    "# trivial while loop, decrement until 0\n",
    "#   x = 5\n",
    "#   while x > 0:\n",
    "#     x = x - 1\n",
    "#\n",
    "in_shape = xc.Shape.array_shape(np.dtype(np.int32), ())\n",
    "\n",
    "# body computation:\n",
    "bcb = xc.XlaBuilder(\"bodycomp\")\n",
    "x = xops.Parameter(bcb, 0, in_shape)\n",
    "const1 = xops.Constant(bcb, np.int32(1))\n",
    "y = xops.Sub(x, const1)\n",
    "body_computation = bcb.Build()\n",
    "\n",
    "# test computation:\n",
    "tcb = xc.XlaBuilder(\"testcomp\")\n",
    "x = xops.Parameter(tcb, 0, in_shape)\n",
    "const0 = xops.Constant(tcb, np.int32(0))\n",
    "y = xops.Gt(x, const0)\n",
    "test_computation = tcb.Build()\n",
    "\n",
    "# while computation:\n",
    "wcb = xc.XlaBuilder(\"whilecomp\")\n",
    "x = xops.Parameter(wcb, 0, in_shape)\n",
    "xops.While(test_computation, body_computation, x)\n",
    "while_computation = wcb.Build()\n",
    "\n",
    "# Now compile and execute:\n",
    "# get a cpu backend\n",
    "cpu_backend = xc.get_local_backend(\"cpu\")\n",
    "\n",
    "# compile graph based on shape\n",
    "compiled_computation = cpu_backend.compile(while_computation)\n",
    "\n",
    "host_input = np.array(5, dtype=np.int32)\n",
    "\n",
    "device_input = cpu_backend.buffer_from_pyval(host_input)\n",
    "device_out = compiled_computation.execute([device_input ,])\n",
    "\n",
    "# retrive the result\n",
    "device_out[0].to_py()"
   ]
  },
  {
   "cell_type": "markdown",
   "metadata": {
    "id": "7UOnXlY8slI6"
   },
   "source": [
    "## While loops w/ Tuples - Newton's Method for sqrt"
   ]
  },
  {
   "cell_type": "code",
   "execution_count": 5,
   "metadata": {
    "id": "HEWz-vzd6QPR",
    "outputId": "ad4c4247-8e81-4739-866f-2950fec5e759"
   },
   "outputs": [
    {
     "name": "stdout",
     "output_type": "stream",
     "text": [
      "square root of 2.0 is 1.4142156839370728\n"
     ]
    }
   ],
   "source": [
    "Xsqr = 2\n",
    "guess = 1.0\n",
    "converged_delta = 0.001\n",
    "maxit = 1000\n",
    "\n",
    "in_shape_0 = xc.Shape.array_shape(np.dtype(np.float32), ())\n",
    "in_shape_1 = xc.Shape.array_shape(np.dtype(np.float32), ())\n",
    "in_shape_2 = xc.Shape.array_shape(np.dtype(np.int32), ())\n",
    "in_tuple_shape = xc.Shape.tuple_shape([in_shape_0, in_shape_1, in_shape_2])\n",
    "\n",
    "# body computation:\n",
    "# x_{i+1} = x_i - (x_i**2 - y) / (2 * x_i)\n",
    "bcb = xc.XlaBuilder(\"bodycomp\")\n",
    "intuple = xops.Parameter(bcb, 0, in_tuple_shape)\n",
    "y = xops.GetTupleElement(intuple, 0)\n",
    "x = xops.GetTupleElement(intuple, 1)\n",
    "guard_cntr = xops.GetTupleElement(intuple, 2)\n",
    "new_x = xops.Sub(x, xops.Div(xops.Sub(xops.Mul(x, x), y), xops.Add(x, x)))\n",
    "result = xops.Tuple(bcb, [y, new_x, xops.Sub(guard_cntr, xops.Constant(bcb, np.int32(1)))])\n",
    "body_computation = bcb.Build()\n",
    "\n",
    "# test computation -- convergence and max iteration test\n",
    "tcb = xc.XlaBuilder(\"testcomp\")\n",
    "intuple = xops.Parameter(tcb, 0, in_tuple_shape)\n",
    "y = xops.GetTupleElement(intuple, 0)\n",
    "x = xops.GetTupleElement(intuple, 1)\n",
    "guard_cntr = xops.GetTupleElement(intuple, 2)\n",
    "criterion = xops.Abs(xops.Sub(xops.Mul(x, x), y))\n",
    "# stop at convergence criteria or too many iterations\n",
    "test = xops.And(xops.Gt(criterion, xops.Constant(tcb, np.float32(converged_delta))), \n",
    "               xops.Gt(guard_cntr, xops.Constant(tcb, np.int32(0))))\n",
    "test_computation = tcb.Build()\n",
    "\n",
    "# while computation:\n",
    "# since jax does not allow users to create a tuple input directly, we need to\n",
    "# take multiple parameters and make a intermediate tuple before feeding it as\n",
    "# an initial carry to while loop\n",
    "wcb = xc.XlaBuilder(\"whilecomp\")\n",
    "y = xops.Parameter(wcb, 0, in_shape_0)\n",
    "x = xops.Parameter(wcb, 1, in_shape_1)\n",
    "guard_cntr = xops.Parameter(wcb, 2, in_shape_2)\n",
    "tuple_init_carry = xops.Tuple(wcb, [y, x, guard_cntr])\n",
    "xops.While(test_computation, body_computation, tuple_init_carry)\n",
    "while_computation = wcb.Build()\n",
    "\n",
    "# Now compile and execute:\n",
    "cpu_backend = xc.get_local_backend(\"cpu\")\n",
    "\n",
    "# compile graph based on shape\n",
    "compiled_computation = cpu_backend.compile(while_computation)\n",
    "\n",
    "y = np.array(Xsqr, dtype=np.float32)\n",
    "x = np.array(guess, dtype=np.float32)\n",
    "maxit = np.array(maxit, dtype=np.int32)\n",
    "\n",
    "device_input_y = cpu_backend.buffer_from_pyval(y)\n",
    "device_input_x = cpu_backend.buffer_from_pyval(x)\n",
    "device_input_maxit = cpu_backend.buffer_from_pyval(maxit)\n",
    "device_out = compiled_computation.execute([device_input_y, device_input_x, device_input_maxit])\n",
    "\n",
    "# retrive the result\n",
    "print(\"square root of {y} is {x}\".format(y=y, x=device_out[1].to_py()))"
   ]
  },
  {
   "cell_type": "markdown",
   "metadata": {
    "id": "yETVIzTInFYr"
   },
   "source": [
    "## Calculate Symm Eigenvalues"
   ]
  },
  {
   "cell_type": "markdown",
   "metadata": {
    "id": "AiyR1e2NubKa"
   },
   "source": [
    "Let's exploit the XLA QR implementation to solve some eigenvalues for symmetric matrices.  \n",
    "\n",
    "This is the naive QR algorithm, without acceleration for closely-spaced eigenvalue convergence, nor any permutation to sort eigenvalues by magnitude."
   ]
  },
  {
   "cell_type": "code",
   "execution_count": 6,
   "metadata": {
    "id": "wjxDPbqCcuXT",
    "outputId": "2380db52-799d-494e-ded2-856e91f01b0f"
   },
   "outputs": [
    {
     "name": "stdout",
     "output_type": "stream",
     "text": [
      "sorted eigenvalues\n",
      "[-0.8725038  -0.60240626 -0.4055607  -0.22835028  0.02351513  0.37099555\n",
      "  0.59763217  0.70874715  0.80415636  4.830684  ]\n",
      "sorted eigenvalues from numpy\n",
      "[-0.87250406 -0.61841923 -0.40556082 -0.22835036  0.02351517  0.37099501\n",
      "  0.61364734  0.70874697  0.8041563   4.830684  ]\n",
      "sorted error\n",
      "[ 2.3841858e-07  1.6012967e-02  1.1920929e-07  7.4505806e-08\n",
      " -3.3527613e-08  5.3644180e-07 -1.6015172e-02  1.7881393e-07\n",
      "  5.9604645e-08  0.0000000e+00]\n"
     ]
    },
    {
     "data": {
      "image/png": "[encoded data removed]",
      "text/plain": [
       "<Figure size 432x288 with 1 Axes>"
      ]
     },
     "metadata": {
      "needs_background": "light"
     },
     "output_type": "display_data"
    }
   ],
   "source": [
    "Niter = 200\n",
    "matrix_shape = (10, 10)\n",
    "\n",
    "in_shape_0 = xc.Shape.array_shape(np.dtype(np.float32), matrix_shape)\n",
    "in_shape_1 = xc.Shape.array_shape(np.dtype(np.int32), ())\n",
    "in_tuple_shape = xc.Shape.tuple_shape([in_shape_0, in_shape_1])\n",
    "\n",
    "# body computation -- QR loop: X_i = Q R , X_{i+1} = R Q\n",
    "\n",
    "bcb = xc.XlaBuilder(\"bodycomp\")\n",
    "intuple = xops.Parameter(bcb, 0, in_tuple_shape)\n",
    "x = xops.GetTupleElement(intuple, 0)\n",
    "cntr = xops.GetTupleElement(intuple, 1)\n",
    "Q, R = xops.QR(x, True)\n",
    "RQ = xops.Dot(R, Q)\n",
    "xops.Tuple(bcb, [RQ, xops.Sub(cntr, xops.Constant(bcb, np.int32(1)))])\n",
    "body_computation = bcb.Build()\n",
    "\n",
    "# test computation -- just a for loop condition\n",
    "tcb = xc.XlaBuilder(\"testcomp\")\n",
    "intuple = xops.Parameter(tcb, 0, in_tuple_shape)\n",
    "cntr = xops.GetTupleElement(intuple, 1)\n",
    "test = xops.Gt(cntr, xops.Constant(tcb, np.int32(0)))\n",
    "test_computation = tcb.Build()\n",
    "\n",
    "# while computation:\n",
    "wcb = xc.XlaBuilder(\"whilecomp\")\n",
    "x = xops.Parameter(wcb, 0, in_shape_0)\n",
    "cntr = xops.Parameter(wcb, 1, in_shape_1)\n",
    "tuple_init_carry = xops.Tuple(wcb, [x, cntr])\n",
    "xops.While(test_computation, body_computation, tuple_init_carry)\n",
    "while_computation = wcb.Build()\n",
    "\n",
    "# Now compile and execute:\n",
    "cpu_backend = xc.get_local_backend(\"cpu\")\n",
    "\n",
    "# compile graph based on shape\n",
    "compiled_computation = cpu_backend.compile(while_computation)\n",
    "\n",
    "X = np.random.random(matrix_shape).astype(np.float32)\n",
    "X = (X + X.T) / 2.0\n",
    "it = np.array(Niter, dtype=np.int32)\n",
    "\n",
    "device_input_x = cpu_backend.buffer_from_pyval(X)\n",
    "device_input_it = cpu_backend.buffer_from_pyval(it)\n",
    "device_out = compiled_computation.execute([device_input_x, device_input_it])\n",
    "\n",
    "host_out = device_out[0].to_py()\n",
    "eigh_vals = host_out.diagonal()\n",
    "\n",
    "plt.title('D')\n",
    "plt.imshow(host_out)\n",
    "print('sorted eigenvalues')\n",
    "print(np.sort(eigh_vals))\n",
    "print('sorted eigenvalues from numpy')\n",
    "print(np.sort(np.linalg.eigh(X)[0]))\n",
    "print('sorted error') \n",
    "print(np.sort(eigh_vals) - np.sort(np.linalg.eigh(X)[0]))"
   ]
  },
  {
   "cell_type": "markdown",
   "metadata": {
    "id": "FpggTihknAOw"
   },
   "source": [
    "## Calculate Full Symm Eigensystem"
   ]
  },
  {
   "cell_type": "markdown",
   "metadata": {
    "id": "Qos4ankYuj1T"
   },
   "source": [
    "We can also calculate the  eigenbasis by accumulating the Qs."
   ]
  },
  {
   "cell_type": "code",
   "execution_count": 7,
   "metadata": {
    "id": "Kp3A-aAiZk0g",
    "outputId": "bbaff039-20f4-45cd-b8fe-5a664d413f5b"
   },
   "outputs": [
    {
     "name": "stdout",
     "output_type": "stream",
     "text": [
      "sorted eigenvalues\n",
      "[-1.027512   -0.78538555 -0.65880007 -0.27016476 -0.06224441  0.24413694\n",
      "  0.43079987  0.8147399   0.93938303  5.3021045 ]\n",
      "sorted eigenvalues from numpy\n",
      "[-1.0275131  -0.7878764  -0.65879965 -0.2701653  -0.06224444  0.24413756\n",
      "  0.43079984  0.8172316   0.9393829   5.302105  ]\n",
      "sorted error\n",
      "[ 1.1920929e-06  2.4908781e-03 -4.1723251e-07  5.3644180e-07\n",
      "  3.3527613e-08 -6.1094761e-07  2.9802322e-08 -2.4917126e-03\n",
      "  1.1920929e-07 -4.7683716e-07]\n"
     ]
    },
    {
     "data": {
      "image/png": "[encoded data removed]",
      "text/plain": [
       "<Figure size 432x288 with 1 Axes>"
      ]
     },
     "metadata": {
      "needs_background": "light"
     },
     "output_type": "display_data"
    },
    {
     "data": {
      "image/png": "[encoded data removed]",
      "text/plain": [
       "<Figure size 432x288 with 1 Axes>"
      ]
     },
     "metadata": {
      "needs_background": "light"
     },
     "output_type": "display_data"
    },
    {
     "data": {
      "image/png": "[encoded data removed]",
      "text/plain": [
       "<Figure size 432x288 with 1 Axes>"
      ]
     },
     "metadata": {
      "needs_background": "light"
     },
     "output_type": "display_data"
    }
   ],
   "source": [
    "Niter = 100\n",
    "matrix_shape = (10, 10)\n",
    "\n",
    "in_shape_0 = xc.Shape.array_shape(np.dtype(np.float32), matrix_shape)\n",
    "in_shape_1 = xc.Shape.array_shape(np.dtype(np.float32), matrix_shape)\n",
    "in_shape_2 = xc.Shape.array_shape(np.dtype(np.int32), ())\n",
    "in_tuple_shape = xc.Shape.tuple_shape([in_shape_0, in_shape_1, in_shape_2])\n",
    "\n",
    "# body computation -- QR loop: X_i = Q R , X_{i+1} = R Q\n",
    "bcb = xc.XlaBuilder(\"bodycomp\")\n",
    "intuple = xops.Parameter(bcb, 0, in_tuple_shape)\n",
    "X = xops.GetTupleElement(intuple, 0)\n",
    "O = xops.GetTupleElement(intuple, 1)\n",
    "cntr = xops.GetTupleElement(intuple, 2)\n",
    "Q, R = xops.QR(X, True)\n",
    "RQ = xops.Dot(R, Q)\n",
    "Onew = xops.Dot(O, Q)\n",
    "xops.Tuple(bcb, [RQ, Onew, xops.Sub(cntr, xops.Constant(bcb, np.int32(1)))])\n",
    "body_computation = bcb.Build()\n",
    "\n",
    "# test computation -- just a for loop condition\n",
    "tcb = xc.XlaBuilder(\"testcomp\")\n",
    "intuple = xops.Parameter(tcb, 0, in_tuple_shape)\n",
    "cntr = xops.GetTupleElement(intuple, 2)\n",
    "test = xops.Gt(cntr, xops.Constant(tcb, np.int32(0)))\n",
    "test_computation = tcb.Build()\n",
    "\n",
    "# while computation:\n",
    "wcb = xc.XlaBuilder(\"whilecomp\")\n",
    "X = xops.Parameter(wcb, 0, in_shape_0)\n",
    "O = xops.Parameter(wcb, 1, in_shape_1)\n",
    "cntr = xops.Parameter(wcb, 2, in_shape_2)\n",
    "tuple_init_carry = xops.Tuple(wcb, [X, O, cntr])\n",
    "xops.While(test_computation, body_computation, tuple_init_carry)\n",
    "while_computation = wcb.Build()\n",
    "\n",
    "# Now compile and execute:\n",
    "cpu_backend = xc.get_local_backend(\"cpu\")\n",
    "\n",
    "# compile graph based on shape\n",
    "compiled_computation = cpu_backend.compile(while_computation)\n",
    "\n",
    "X = np.random.random(matrix_shape).astype(np.float32)\n",
    "X = (X + X.T) / 2.0\n",
    "Omat = np.eye(matrix_shape[0], dtype=np.float32)\n",
    "it = np.array(Niter, dtype=np.int32)\n",
    "\n",
    "device_input_X = cpu_backend.buffer_from_pyval(X)\n",
    "device_input_Omat = cpu_backend.buffer_from_pyval(Omat)\n",
    "device_input_it = cpu_backend.buffer_from_pyval(it)\n",
    "device_out = compiled_computation.execute([device_input_X, device_input_Omat, device_input_it])\n",
    "\n",
    "host_out = device_out[0].to_py()\n",
    "eigh_vals = host_out.diagonal()\n",
    "eigh_mat = device_out[1].to_py()\n",
    "\n",
    "plt.title('D')\n",
    "plt.imshow(host_out)\n",
    "plt.figure()\n",
    "plt.title('U')\n",
    "plt.imshow(eigh_mat)\n",
    "plt.figure()\n",
    "plt.title('U^T A U')\n",
    "plt.imshow(np.dot(np.dot(eigh_mat.T, X), eigh_mat))\n",
    "print('sorted eigenvalues')\n",
    "print(np.sort(eigh_vals))\n",
    "print('sorted eigenvalues from numpy')\n",
    "print(np.sort(np.linalg.eigh(X)[0]))\n",
    "print('sorted error') \n",
    "print(np.sort(eigh_vals) - np.sort(np.linalg.eigh(X)[0]))"
   ]
  },
  {
   "cell_type": "markdown",
   "metadata": {
    "id": "Ee3LMzOvlCuK"
   },
   "source": [
    "## Convolutions\n",
    "\n",
    "I keep hearing from the AGI folks that we can use convolutions to build artificial life.  Let's try it out."
   ]
  },
  {
   "cell_type": "code",
   "execution_count": 8,
   "metadata": {
    "id": "9xh6yeXKS9Vg"
   },
   "outputs": [],
   "source": [
    "# Here we borrow convenience functions from LAX to handle conv dimension numbers.\n",
    "from typing import NamedTuple, Sequence\n",
    "\n",
    "class ConvDimensionNumbers(NamedTuple):\n",
    "  \"\"\"Describes batch, spatial, and feature dimensions of a convolution.\n",
    "\n",
    "  Args:\n",
    "    lhs_spec: a tuple of nonnegative integer dimension numbers containing\n",
    "      `(batch dimension, feature dimension, spatial dimensions...)`.\n",
    "    rhs_spec: a tuple of nonnegative integer dimension numbers containing\n",
    "      `(out feature dimension, in feature dimension, spatial dimensions...)`.\n",
    "    out_spec: a tuple of nonnegative integer dimension numbers containing\n",
    "      `(batch dimension, feature dimension, spatial dimensions...)`.\n",
    "  \"\"\"\n",
    "  lhs_spec: Sequence[int]\n",
    "  rhs_spec: Sequence[int]\n",
    "  out_spec: Sequence[int]\n",
    "\n",
    "def _conv_general_proto(dimension_numbers):\n",
    "  assert type(dimension_numbers) is ConvDimensionNumbers\n",
    "  lhs_spec, rhs_spec, out_spec = dimension_numbers\n",
    "  proto = xc.ConvolutionDimensionNumbers()\n",
    "  proto.input_batch_dimension = lhs_spec[0]\n",
    "  proto.input_feature_dimension = lhs_spec[1]\n",
    "  proto.output_batch_dimension = out_spec[0]\n",
    "  proto.output_feature_dimension = out_spec[1]\n",
    "  proto.kernel_output_feature_dimension = rhs_spec[0]\n",
    "  proto.kernel_input_feature_dimension = rhs_spec[1]\n",
    "  proto.input_spatial_dimensions.extend(lhs_spec[2:])\n",
    "  proto.kernel_spatial_dimensions.extend(rhs_spec[2:])\n",
    "  proto.output_spatial_dimensions.extend(out_spec[2:])\n",
    "  return proto"
   ]
  },
  {
   "cell_type": "code",
   "execution_count": 9,
   "metadata": {
    "id": "J8QkirDalBse",
    "outputId": "543a03fd-f038-46f2-9a76-a6532b86874e"
   },
   "outputs": [
    {
     "data": {
      "image/png": "[encoded data removed]",
      "text/plain": [
       "<Figure size 1080x144 with 13 Axes>"
      ]
     },
     "metadata": {
      "needs_background": "light"
     },
     "output_type": "display_data"
    }
   ],
   "source": [
    "Niter=13\n",
    "matrix_shape = (1, 1, 20, 20)\n",
    "in_shape_0 = xc.Shape.array_shape(np.dtype(np.int32), matrix_shape)\n",
    "in_shape_1 = xc.Shape.array_shape(np.dtype(np.int32), ())\n",
    "in_tuple_shape = xc.Shape.tuple_shape([in_shape_0, in_shape_1])\n",
    "\n",
    "# Body computation -- Conway Update\n",
    "bcb = xc.XlaBuilder(\"bodycomp\")\n",
    "intuple = xops.Parameter(bcb, 0, in_tuple_shape)\n",
    "x = xops.GetTupleElement(intuple, 0)\n",
    "cntr = xops.GetTupleElement(intuple, 1)\n",
    "# convs require floating-point type\n",
    "xf = xops.ConvertElementType(x, xc.DTYPE_TO_XLA_ELEMENT_TYPE['float32'])\n",
    "stamp = xops.Constant(bcb, np.ones((1,1,3,3), dtype=np.float32))\n",
    "conv_dim_num_proto = _conv_general_proto(ConvDimensionNumbers(lhs_spec=(0,1,2,3), rhs_spec=(0,1,2,3), out_spec=(0,1,2,3)))\n",
    "convd = xops.ConvGeneralDilated(xf, stamp, [1, 1], [(1, 1), (1, 1)], (), (), conv_dim_num_proto)\n",
    "# # logic ops require integer types\n",
    "convd = xops.ConvertElementType(convd, xc.DTYPE_TO_XLA_ELEMENT_TYPE['int32'])\n",
    "bool_x = xops.Eq(x, xops.Constant(bcb, np.int32(1)))\n",
    "# core update rule\n",
    "res = xops.Or(\n",
    "    # birth rule\n",
    "    xops.And(xops.Not(bool_x), xops.Eq(convd, xops.Constant(bcb, np.int32(3)))),\n",
    "    # survival rule\n",
    "    xops.And(bool_x, xops.Or(\n",
    "        # these are +1 the normal numbers since conv-sum counts self\n",
    "        xops.Eq(convd, xops.Constant(bcb, np.int32(4))),\n",
    "        xops.Eq(convd, xops.Constant(bcb, np.int32(3))))\n",
    "    )\n",
    ")\n",
    "# Convert output back to int type for type constancy\n",
    "int_res = xops.ConvertElementType(res, xc.DTYPE_TO_XLA_ELEMENT_TYPE['int32'])\n",
    "xops.Tuple(bcb, [int_res, xops.Sub(cntr, xops.Constant(bcb, np.int32(1)))])\n",
    "body_computation = bcb.Build()\n",
    "\n",
    "# Test computation -- just a for loop condition\n",
    "tcb = xc.XlaBuilder(\"testcomp\")\n",
    "intuple = xops.Parameter(tcb, 0, in_tuple_shape)\n",
    "cntr = xops.GetTupleElement(intuple, 1)\n",
    "test = xops.Gt(cntr, xops.Constant(tcb, np.int32(0)))\n",
    "test_computation = tcb.Build()\n",
    "\n",
    "# While computation:\n",
    "wcb = xc.XlaBuilder(\"whilecomp\")\n",
    "x = xops.Parameter(wcb, 0, in_shape_0)\n",
    "cntr = xops.Parameter(wcb, 1, in_shape_1)\n",
    "tuple_init_carry = xops.Tuple(wcb, [x, cntr])\n",
    "xops.While(test_computation, body_computation, tuple_init_carry)\n",
    "while_computation = wcb.Build()\n",
    "\n",
    "# Now compile and execute:\n",
    "cpu_backend = xc.get_local_backend(\"cpu\")\n",
    "\n",
    "# compile graph based on shape\n",
    "compiled_computation = cpu_backend.compile(while_computation)\n",
    "\n",
    "# Set up initial state\n",
    "X = np.zeros(matrix_shape, dtype=np.int32)\n",
    "X[0,0, 5:8, 5:8] = np.array([[0,1,0],[0,0,1],[1,1,1]])\n",
    "\n",
    "# Evolve\n",
    "movie = np.zeros((Niter,)+matrix_shape[-2:], dtype=np.int32)\n",
    "for it in range(Niter):\n",
    "  itr = np.array(it, dtype=np.int32)\n",
    "  device_input_x = cpu_backend.buffer_from_pyval(X)\n",
    "  device_input_it = cpu_backend.buffer_from_pyval(itr)\n",
    "  device_out = compiled_computation.execute([device_input_x, device_input_it])\n",
    "  movie[it] = device_out[0].to_py()[0,0]\n",
    "\n",
    "# Plot\n",
    "fig = plt.figure(figsize=(15,2))\n",
    "gs = gridspec.GridSpec(1,Niter)\n",
    "for i in range(Niter):\n",
    "  ax1 = plt.subplot(gs[:, i])\n",
    "  ax1.axis('off')\n",
    "  ax1.imshow(movie[i])\n",
    "plt.subplots_adjust(left=0.0, right=1.0, top=1.0, bottom=0.0, hspace=0.0, wspace=0.05)"
   ]
  },
  {
   "cell_type": "markdown",
   "metadata": {
    "id": "9-0PJlqv237S"
   },
   "source": [
    "## Fin \n",
    "\n",
    "There's much more to XLA, but this hopefully highlights how easy it is to play with via the python client!"
   ]
  }
 ],
 "metadata": {
  "@webio": {
   "lastCommId": null,
   "lastKernelId": null
  },
  "colab": {
   "collapsed_sections": [],
   "name": "XLA in Python.ipnb",
   "provenance": []
  },
  "jupytext": {
   "formats": "ipynb,md:myst"
  },
  "kernelspec": {
   "display_name": "Python 3",
   "language": "python",
   "name": "python3"
  },
  "language_info": {
   "codemirror_mode": {
    "name": "ipython",
    "version": 3
   },
   "file_extension": ".py",
   "mimetype": "text/x-python",
   "name": "python",
   "nbconvert_exporter": "python",
   "pygments_lexer": "ipython3",
   "version": "3.8.5"
  }
 },
 "nbformat": 4,
 "nbformat_minor": 1
}
