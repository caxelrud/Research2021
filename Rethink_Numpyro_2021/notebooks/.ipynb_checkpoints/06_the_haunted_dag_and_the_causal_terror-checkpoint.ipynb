{
 "cells": [
  {
   "cell_type": "markdown",
   "metadata": {},
   "source": [
    "# Chapter 6. The Haunted DAG & The Causal Terror"
   ]
  },
  {
   "cell_type": "code",
   "execution_count": 1,
   "metadata": {},
   "outputs": [],
   "source": [
    "import os\n",
    "import warnings\n",
    "\n",
    "import arviz as az\n",
    "import daft\n",
    "import matplotlib.pyplot as plt\n",
    "import pandas as pd\n",
    "from causalgraphicalmodels import CausalGraphicalModel\n",
    "\n",
    "import jax.numpy as jnp\n",
    "from jax import lax, random\n",
    "\n",
    "import numpyro\n",
    "import numpyro.distributions as dist\n",
    "import numpyro.optim as optim\n",
    "from numpyro.diagnostics import print_summary\n",
    "from numpyro.infer import ELBO, SVI\n",
    "from numpyro.infer.autoguide import AutoLaplaceApproximation\n",
    "\n",
    "if \"SVG\" in os.environ:\n",
    "    %config InlineBackend.figure_formats = [\"svg\"]\n",
    "warnings.formatwarning = lambda message, category, *args, **kwargs: \"{}: {}\\n\".format(\n",
    "    category.__name__, message\n",
    ")\n",
    "az.style.use(\"arviz-darkgrid\")"
   ]
  },
  {
   "cell_type": "markdown",
   "metadata": {},
   "source": [
    "### Code 6.1"
   ]
  },
  {
   "cell_type": "code",
   "execution_count": 2,
   "metadata": {},
   "outputs": [
    {
     "data": {
      "text/plain": [
       "DeviceArray(-0.6453402, dtype=float32)"
      ]
     },
     "execution_count": 2,
     "metadata": {},
     "output_type": "execute_result"
    }
   ],
   "source": [
    "with numpyro.handlers.seed(rng_seed=1914):\n",
    "    N = 200  # num grant proposals\n",
    "    p = 0.1  # proportion to select\n",
    "    # uncorrelated newsworthiness and trustworthiness\n",
    "    nw = numpyro.sample(\"nw\", dist.Normal().expand([N]))\n",
    "    tw = numpyro.sample(\"tw\", dist.Normal().expand([N]))\n",
    "    # select top 10% of combined scores\n",
    "    s = nw + tw  # total score\n",
    "    q = jnp.quantile(s, 1 - p)  # top 10% threshold\n",
    "    selected = jnp.where(s >= q, True, False)\n",
    "jnp.corrcoef(jnp.stack([tw[selected], nw[selected]], 0))[0, 1]"
   ]
  },
  {
   "cell_type": "markdown",
   "metadata": {},
   "source": [
    "### Code 6.2"
   ]
  },
  {
   "cell_type": "code",
   "execution_count": 3,
   "metadata": {},
   "outputs": [],
   "source": [
    "N = 100  # number of individuals\n",
    "with numpyro.handlers.seed(rng_seed=909):\n",
    "    # sim total height of each\n",
    "    height = numpyro.sample(\"height\", dist.Normal(10, 2).expand([N]))\n",
    "    # leg as proportion of height\n",
    "    leg_prop = numpyro.sample(\"prop\", dist.Uniform(0.4, 0.5).expand([N]))\n",
    "    # sim left leg as proportion + error\n",
    "    leg_left = leg_prop * height + numpyro.sample(\n",
    "        \"left_error\", dist.Normal(0, 0.02).expand([N])\n",
    "    )\n",
    "    # sim right leg as proportion + error\n",
    "    leg_right = leg_prop * height + numpyro.sample(\n",
    "        \"right_error\", dist.Normal(0, 0.02).expand([N])\n",
    "    )\n",
    "    # combine into data frame\n",
    "    d = pd.DataFrame({\"height\": height, \"leg_left\": leg_left, \"leg_right\": leg_right})"
   ]
  },
  {
   "cell_type": "markdown",
   "metadata": {},
   "source": [
    "### Code 6.3"
   ]
  },
  {
   "cell_type": "code",
   "execution_count": 4,
   "metadata": {},
   "outputs": [
    {
     "name": "stderr",
     "output_type": "stream",
     "text": [
      "FutureWarning: Using ELBO directly in SVI is deprecated. Please use Trace_ELBO class instead.\n"
     ]
    },
    {
     "name": "stdout",
     "output_type": "stream",
     "text": [
      "\n",
      "                mean       std    median      5.5%     94.5%     n_eff     r_hat\n",
      "         a      0.81      0.34      0.80      0.27      1.31   1049.96      1.00\n",
      "        bl      2.61      2.28      2.63     -1.07      6.27    813.04      1.00\n",
      "        br     -0.59      2.29     -0.60     -4.42      2.97    805.64      1.00\n",
      "     sigma      0.67      0.05      0.67      0.60      0.74    968.51      1.00\n",
      "\n"
     ]
    }
   ],
   "source": [
    "def model(leg_left, leg_right, height):\n",
    "    a = numpyro.sample(\"a\", dist.Normal(10, 100))\n",
    "    bl = numpyro.sample(\"bl\", dist.Normal(2, 10))\n",
    "    br = numpyro.sample(\"br\", dist.Normal(2, 10))\n",
    "    sigma = numpyro.sample(\"sigma\", dist.Exponential(1))\n",
    "    mu = a + bl * leg_left + br * leg_right\n",
    "    numpyro.sample(\"height\", dist.Normal(mu, sigma), obs=height)\n",
    "\n",
    "\n",
    "m6_1 = AutoLaplaceApproximation(model)\n",
    "svi = SVI(\n",
    "    model,\n",
    "    m6_1,\n",
    "    optim.Adam(0.1),\n",
    "    ELBO(),\n",
    "    leg_left=d.leg_left.values,\n",
    "    leg_right=d.leg_right.values,\n",
    "    height=d.height.values,\n",
    ")\n",
    "init_state = svi.init(random.PRNGKey(0))\n",
    "state, loss = lax.scan(lambda x, i: svi.update(x), init_state, jnp.zeros(2000))\n",
    "p6_1 = svi.get_params(state)\n",
    "post = m6_1.sample_posterior(random.PRNGKey(1), p6_1, (1000,))\n",
    "print_summary(post, 0.89, False)"
   ]
  },
  {
   "cell_type": "markdown",
   "metadata": {},
   "source": [
    "### Code 6.4"
   ]
  },
  {
   "cell_type": "code",
   "execution_count": 5,
   "metadata": {},
   "outputs": [
    {
     "data": {
      "image/png": "[encoded data removed]",
      "text/plain": [
       "<Figure size 600x740 with 1 Axes>"
      ]
     },
     "metadata": {},
     "output_type": "display_data"
    }
   ],
   "source": [
    "az.plot_forest(post, hdi_prob=0.89)\n",
    "plt.show()"
   ]
  },
  {
   "cell_type": "markdown",
   "metadata": {},
   "source": [
    "### Code 6.5"
   ]
  },
  {
   "cell_type": "code",
   "execution_count": 6,
   "metadata": {},
   "outputs": [
    {
     "data": {
      "image/png": "[encoded data removed]",
      "text/plain": [
       "<Figure size 720x480 with 1 Axes>"
      ]
     },
     "metadata": {},
     "output_type": "display_data"
    }
   ],
   "source": [
    "post = m6_1.sample_posterior(random.PRNGKey(1), p6_1, (1000,))\n",
    "az.plot_pair(post, var_names=[\"br\", \"bl\"], scatter_kwargs={\"alpha\": 0.1})\n",
    "plt.show()"
   ]
  },
  {
   "cell_type": "markdown",
   "metadata": {},
   "source": [
    "### Code 6.6"
   ]
  },
  {
   "cell_type": "code",
   "execution_count": 7,
   "metadata": {},
   "outputs": [
    {
     "data": {
      "image/png": "[encoded data removed]",
      "text/plain": [
       "<Figure size 720x480 with 1 Axes>"
      ]
     },
     "metadata": {},
     "output_type": "display_data"
    }
   ],
   "source": [
    "sum_blbr = post[\"bl\"] + post[\"br\"]\n",
    "az.plot_kde(sum_blbr, label=\"sum of bl and br\")\n",
    "plt.show()"
   ]
  },
  {
   "cell_type": "markdown",
   "metadata": {},
   "source": [
    "### Code 6.7"
   ]
  },
  {
   "cell_type": "code",
   "execution_count": 8,
   "metadata": {},
   "outputs": [
    {
     "name": "stderr",
     "output_type": "stream",
     "text": [
      "FutureWarning: Using ELBO directly in SVI is deprecated. Please use Trace_ELBO class instead.\n"
     ]
    },
    {
     "name": "stdout",
     "output_type": "stream",
     "text": [
      "\n",
      "                mean       std    median      5.5%     94.5%     n_eff     r_hat\n",
      "         a      0.83      0.35      0.84      0.25      1.35    931.50      1.00\n",
      "        bl      2.02      0.08      2.02      1.91      2.15    940.42      1.00\n",
      "     sigma      0.67      0.05      0.67      0.60      0.75    949.09      1.00\n",
      "\n"
     ]
    }
   ],
   "source": [
    "def model(leg_left, height):\n",
    "    a = numpyro.sample(\"a\", dist.Normal(10, 100))\n",
    "    bl = numpyro.sample(\"bl\", dist.Normal(2, 10))\n",
    "    sigma = numpyro.sample(\"sigma\", dist.Exponential(1))\n",
    "    mu = a + bl * leg_left\n",
    "    numpyro.sample(\"height\", dist.Normal(mu, sigma), obs=height)\n",
    "\n",
    "\n",
    "m6_2 = AutoLaplaceApproximation(model)\n",
    "svi = SVI(\n",
    "    model,\n",
    "    m6_2,\n",
    "    optim.Adam(1),\n",
    "    ELBO(),\n",
    "    leg_left=d.leg_left.values,\n",
    "    height=d.height.values,\n",
    ")\n",
    "init_state = svi.init(random.PRNGKey(0))\n",
    "state, loss = lax.scan(lambda x, i: svi.update(x), init_state, jnp.zeros(1000))\n",
    "p6_2 = svi.get_params(state)\n",
    "post = m6_2.sample_posterior(random.PRNGKey(1), p6_2, (1000,))\n",
    "print_summary(post, 0.89, False)"
   ]
  },
  {
   "cell_type": "markdown",
   "metadata": {},
   "source": [
    "### Code 6.8"
   ]
  },
  {
   "cell_type": "code",
   "execution_count": 9,
   "metadata": {},
   "outputs": [],
   "source": [
    "milk = pd.read_csv(\"../data/milk.csv\", sep=\";\")\n",
    "d = milk\n",
    "d[\"K\"] = d[\"kcal.per.g\"].pipe(lambda x: (x - x.mean()) / x.std())\n",
    "d[\"F\"] = d[\"perc.fat\"].pipe(lambda x: (x - x.mean()) / x.std())\n",
    "d[\"L\"] = d[\"perc.lactose\"].pipe(lambda x: (x - x.mean()) / x.std())"
   ]
  },
  {
   "cell_type": "markdown",
   "metadata": {},
   "source": [
    "### Code 6.9"
   ]
  },
  {
   "cell_type": "code",
   "execution_count": 10,
   "metadata": {},
   "outputs": [
    {
     "name": "stdout",
     "output_type": "stream",
     "text": [
      "\n",
      "                mean       std    median      5.5%     94.5%     n_eff     r_hat\n",
      "         a      0.01      0.08      0.01     -0.13      0.12    931.50      1.00\n",
      "        bF      0.86      0.09      0.86      0.73      1.01   1111.41      1.00\n",
      "     sigma      0.46      0.06      0.46      0.37      0.57    940.36      1.00\n",
      "\n",
      "\n",
      "                mean       std    median      5.5%     94.5%     n_eff     r_hat\n",
      "         a     -0.00      0.07      0.00     -0.11      0.10    931.50      1.00\n",
      "        bL     -0.90      0.07     -0.90     -1.01     -0.78   1110.22      1.00\n",
      "     sigma      0.39      0.05      0.39      0.30      0.47    957.34      1.00\n",
      "\n"
     ]
    }
   ],
   "source": [
    "# kcal.per.g regressed on perc.fat\n",
    "def model(F, K):\n",
    "    a = numpyro.sample(\"a\", dist.Normal(0, 0.2))\n",
    "    bF = numpyro.sample(\"bF\", dist.Normal(0, 0.5))\n",
    "    sigma = numpyro.sample(\"sigma\", dist.Exponential(1))\n",
    "    mu = a + bF * F\n",
    "    numpyro.sample(\"K\", dist.Normal(mu, sigma), obs=K)\n",
    "\n",
    "\n",
    "m6_3 = AutoLaplaceApproximation(model)\n",
    "svi = SVI(model, m6_3, optim.Adam(1), ELBO(), F=d.F.values, K=d.K.values)\n",
    "init_state = svi.init(random.PRNGKey(0))\n",
    "state, loss = lax.scan(lambda x, i: svi.update(x), init_state, jnp.zeros(1000))\n",
    "p6_3 = svi.get_params(state)\n",
    "\n",
    "# kcal.per.g regressed on perc.lactose\n",
    "def model(L, K):\n",
    "    a = numpyro.sample(\"a\", dist.Normal(0, 0.2))\n",
    "    bL = numpyro.sample(\"bL\", dist.Normal(0, 0.5))\n",
    "    sigma = numpyro.sample(\"sigma\", dist.Exponential(1))\n",
    "    mu = a + bL * L\n",
    "    numpyro.sample(\"K\", dist.Normal(mu, sigma), obs=K)\n",
    "\n",
    "\n",
    "m6_4 = AutoLaplaceApproximation(model)\n",
    "svi = SVI(model, m6_4, optim.Adam(1), ELBO(), L=d.L.values, K=d.K.values)\n",
    "init_state = svi.init(random.PRNGKey(0))\n",
    "state, loss = lax.scan(lambda x, i: svi.update(x), init_state, jnp.zeros(1000))\n",
    "p6_4 = svi.get_params(state)\n",
    "\n",
    "post = m6_3.sample_posterior(random.PRNGKey(1), p6_3, (1000,))\n",
    "print_summary(post, 0.89, False)\n",
    "post = m6_4.sample_posterior(random.PRNGKey(1), p6_4, (1000,))\n",
    "print_summary(post, 0.89, False)"
   ]
  },
  {
   "cell_type": "markdown",
   "metadata": {},
   "source": [
    "### Code 6.10"
   ]
  },
  {
   "cell_type": "code",
   "execution_count": 11,
   "metadata": {},
   "outputs": [
    {
     "name": "stdout",
     "output_type": "stream",
     "text": [
      "\n",
      "                mean       std    median      5.5%     94.5%     n_eff     r_hat\n",
      "         a     -0.00      0.07     -0.00     -0.11      0.10   1049.96      1.00\n",
      "        bF      0.25      0.19      0.25     -0.05      0.56    822.38      1.00\n",
      "        bL     -0.67      0.19     -0.67     -0.98     -0.36    873.20      1.00\n",
      "     sigma      0.39      0.05      0.38      0.31      0.46    963.02      1.00\n",
      "\n"
     ]
    }
   ],
   "source": [
    "def model(F, L, K):\n",
    "    a = numpyro.sample(\"a\", dist.Normal(0, 0.2))\n",
    "    bF = numpyro.sample(\"bF\", dist.Normal(0, 0.5))\n",
    "    bL = numpyro.sample(\"bL\", dist.Normal(0, 0.5))\n",
    "    sigma = numpyro.sample(\"sigma\", dist.Exponential(1))\n",
    "    mu = a + bF * F + bL * L\n",
    "    numpyro.sample(\"K\", dist.Normal(mu, sigma), obs=K)\n",
    "\n",
    "\n",
    "m6_5 = AutoLaplaceApproximation(model)\n",
    "svi = SVI(model, m6_5, optim.Adam(1), ELBO(), F=d.F.values, L=d.L.values, K=d.K.values)\n",
    "init_state = svi.init(random.PRNGKey(0))\n",
    "state, loss = lax.scan(lambda x, i: svi.update(x), init_state, jnp.zeros(1000))\n",
    "p6_5 = svi.get_params(state)\n",
    "post = m6_5.sample_posterior(random.PRNGKey(1), p6_5, (1000,))\n",
    "print_summary(post, 0.89, False)"
   ]
  },
  {
   "cell_type": "markdown",
   "metadata": {},
   "source": [
    "### Code 6.11"
   ]
  },
  {
   "cell_type": "code",
   "execution_count": 12,
   "metadata": {},
   "outputs": [
    {
     "data": {
      "image/png": "[encoded data removed]",
      "text/plain": [
       "<Figure size 1656x1104 with 3 Axes>"
      ]
     },
     "metadata": {},
     "output_type": "display_data"
    }
   ],
   "source": [
    "az.plot_pair(d[[\"kcal.per.g\", \"perc.fat\", \"perc.lactose\"]].to_dict(\"list\"))\n",
    "plt.show()"
   ]
  },
  {
   "cell_type": "markdown",
   "metadata": {},
   "source": [
    "### Code 6.12"
   ]
  },
  {
   "cell_type": "code",
   "execution_count": 13,
   "metadata": {},
   "outputs": [
    {
     "name": "stderr",
     "output_type": "stream",
     "text": [
      "FutureWarning: Using ELBO directly in SVI is deprecated. Please use Trace_ELBO class instead.\n"
     ]
    },
    {
     "data": {
      "image/png": "[encoded data removed]",
      "text/plain": [
       "<Figure size 720x480 with 1 Axes>"
      ]
     },
     "metadata": {},
     "output_type": "display_data"
    }
   ],
   "source": [
    "milk = pd.read_csv(\"../data/milk.csv\", sep=\";\")\n",
    "d = milk\n",
    "\n",
    "\n",
    "def sim_coll(i, r=0.9):\n",
    "    sd = jnp.sqrt((1 - r ** 2) * jnp.var(d[\"perc.fat\"].values))\n",
    "    x = dist.Normal(r * d[\"perc.fat\"].values, sd).sample(random.PRNGKey(3 * i))\n",
    "\n",
    "    def model(perc_fat, kcal_per_g):\n",
    "        intercept = numpyro.sample(\"intercept\", dist.Normal(0, 10))\n",
    "        b_perc_flat = numpyro.sample(\"b_perc.fat\", dist.Normal(0, 10))\n",
    "        b_x = numpyro.sample(\"b_x\", dist.Normal(0, 10))\n",
    "        sigma = numpyro.sample(\"sigma\", dist.HalfCauchy(2))\n",
    "        mu = intercept + b_perc_flat * perc_fat + b_x * x\n",
    "        numpyro.sample(\"kcal.per.g\", dist.Normal(mu, sigma), obs=kcal_per_g)\n",
    "\n",
    "    m = AutoLaplaceApproximation(model)\n",
    "    svi = SVI(\n",
    "        model,\n",
    "        m,\n",
    "        optim.Adam(0.01),\n",
    "        ELBO(),\n",
    "        perc_fat=d[\"perc.fat\"].values,\n",
    "        kcal_per_g=d[\"kcal.per.g\"].values,\n",
    "    )\n",
    "    init_state = svi.init(random.PRNGKey(3 * i + 1))\n",
    "    state = lax.fori_loop(0, 20000, lambda i, x: svi.update(x)[0], init_state)\n",
    "    params = svi.get_params(state)\n",
    "    samples = m.sample_posterior(random.PRNGKey(3 * i + 2), params, (1000,))\n",
    "    vcov = jnp.cov(jnp.stack(list(samples.values()), axis=0))\n",
    "    stddev = jnp.sqrt(jnp.diag(vcov))  # stddev of parameter\n",
    "    return dict(zip(samples.keys(), stddev))[\"b_perc.fat\"]\n",
    "\n",
    "\n",
    "def rep_sim_coll(r=0.9, n=100):\n",
    "    stddev = lax.map(lambda i: sim_coll(i, r=r), jnp.arange(n))\n",
    "    return jnp.nanmean(stddev)\n",
    "\n",
    "\n",
    "r_seq = jnp.arange(start=0, stop=1, step=0.01)\n",
    "stddev = lax.map(lambda z: rep_sim_coll(r=z, n=100), r_seq)\n",
    "plt.plot(r_seq, stddev)\n",
    "plt.xlabel(\"correlation\")\n",
    "plt.show()"
   ]
  },
  {
   "cell_type": "markdown",
   "metadata": {},
   "source": [
    "### Code 6.13"
   ]
  },
  {
   "cell_type": "code",
   "execution_count": 14,
   "metadata": {},
   "outputs": [
    {
     "name": "stdout",
     "output_type": "stream",
     "text": [
      "\n",
      "                 mean       std    median      5.5%     94.5%     n_eff     r_hat\n",
      "     fungus      0.31      0.46      0.00      0.00      1.00     18.52      1.17\n",
      "         h0      9.73      1.95      9.63      7.05     13.33     80.22      0.99\n",
      "         h1     13.72      2.47     13.60     10.73     18.38     43.44      1.08\n",
      "  treatment      0.50      0.50      0.50      0.00      1.00      2.64       inf\n",
      "\n"
     ]
    }
   ],
   "source": [
    "with numpyro.handlers.seed(rng_seed=71):\n",
    "    # number of plants\n",
    "    N = 100\n",
    "\n",
    "    # simulate initial heights\n",
    "    h0 = numpyro.sample(\"h0\", dist.Normal(10, 2).expand([N]))\n",
    "\n",
    "    # assign treatments and simulate fungus and growth\n",
    "    treatment = jnp.repeat(jnp.arange(2), repeats=N // 2)\n",
    "    fungus = numpyro.sample(\n",
    "        \"fungus\", dist.Binomial(total_count=1, probs=(0.5 - treatment * 0.4))\n",
    "    )\n",
    "    h1 = h0 + numpyro.sample(\"diff\", dist.Normal(5 - 3 * fungus))\n",
    "\n",
    "    # compose a clean data frame\n",
    "    d = pd.DataFrame({\"h0\": h0, \"h1\": h1, \"treatment\": treatment, \"fungus\": fungus})\n",
    "print_summary(dict(zip(d.columns, d.T.values)), 0.89, False)"
   ]
  },
  {
   "cell_type": "markdown",
   "metadata": {},
   "source": [
    "### Code 6.14"
   ]
  },
  {
   "cell_type": "code",
   "execution_count": 15,
   "metadata": {},
   "outputs": [
    {
     "name": "stdout",
     "output_type": "stream",
     "text": [
      "\n",
      "                mean       std    median      5.5%     94.5%     n_eff     r_hat\n",
      "     sim_p      1.04      0.27      1.00      0.63      1.44   9936.32      1.00\n",
      "\n"
     ]
    }
   ],
   "source": [
    "sim_p = dist.LogNormal(0, 0.25).sample(random.PRNGKey(0), (int(1e4),))\n",
    "print_summary({\"sim_p\": sim_p}, 0.89, False)"
   ]
  },
  {
   "cell_type": "markdown",
   "metadata": {},
   "source": [
    "### Code 6.15"
   ]
  },
  {
   "cell_type": "code",
   "execution_count": 16,
   "metadata": {},
   "outputs": [
    {
     "name": "stderr",
     "output_type": "stream",
     "text": [
      "FutureWarning: Using ELBO directly in SVI is deprecated. Please use Trace_ELBO class instead.\n"
     ]
    },
    {
     "name": "stdout",
     "output_type": "stream",
     "text": [
      "\n",
      "                mean       std    median      5.5%     94.5%     n_eff     r_hat\n",
      "         p      1.39      0.02      1.39      1.36      1.42    994.30      1.00\n",
      "     sigma      1.84      0.13      1.84      1.65      2.06   1011.70      1.00\n",
      "\n"
     ]
    }
   ],
   "source": [
    "def model(h0, h1):\n",
    "    p = numpyro.sample(\"p\", dist.LogNormal(0, 0.25))\n",
    "    sigma = numpyro.sample(\"sigma\", dist.Exponential(1))\n",
    "    mu = h0 * p\n",
    "    numpyro.sample(\"h1\", dist.Normal(mu, sigma), obs=h1)\n",
    "\n",
    "\n",
    "m6_6 = AutoLaplaceApproximation(model)\n",
    "svi = SVI(model, m6_6, optim.Adam(1), ELBO(), h0=d.h0.values, h1=d.h1.values)\n",
    "init_state = svi.init(random.PRNGKey(0))\n",
    "state, loss = lax.scan(lambda x, i: svi.update(x), init_state, jnp.zeros(1000))\n",
    "p6_6 = svi.get_params(state)\n",
    "post = m6_6.sample_posterior(random.PRNGKey(1), p6_6, (1000,))\n",
    "print_summary(post, 0.89, False)"
   ]
  },
  {
   "cell_type": "markdown",
   "metadata": {},
   "source": [
    "### Code 6.16"
   ]
  },
  {
   "cell_type": "code",
   "execution_count": 17,
   "metadata": {},
   "outputs": [
    {
     "name": "stdout",
     "output_type": "stream",
     "text": [
      "\n",
      "                mean       std    median      5.5%     94.5%     n_eff     r_hat\n",
      "         a      1.47      0.03      1.47      1.43      1.51   1049.04      1.00\n",
      "        bf     -0.28      0.03     -0.28     -0.33     -0.23    910.93      1.00\n",
      "        bt      0.01      0.03      0.01     -0.03      0.06   1123.06      1.00\n",
      "     sigma      1.39      0.10      1.39      1.21      1.54    976.96      1.00\n",
      "\n"
     ]
    }
   ],
   "source": [
    "def model(treatment, fungus, h0, h1):\n",
    "    a = numpyro.sample(\"a\", dist.LogNormal(0, 0.2))\n",
    "    bt = numpyro.sample(\"bt\", dist.Normal(0, 0.5))\n",
    "    bf = numpyro.sample(\"bf\", dist.Normal(0, 0.5))\n",
    "    sigma = numpyro.sample(\"sigma\", dist.Exponential(1))\n",
    "    p = a + bt * treatment + bf * fungus\n",
    "    mu = h0 * p\n",
    "    numpyro.sample(\"h1\", dist.Normal(mu, sigma), obs=h1)\n",
    "\n",
    "\n",
    "m6_7 = AutoLaplaceApproximation(model)\n",
    "svi = SVI(\n",
    "    model,\n",
    "    m6_7,\n",
    "    optim.Adam(0.3),\n",
    "    ELBO(),\n",
    "    treatment=d.treatment.values,\n",
    "    fungus=d.fungus.values,\n",
    "    h0=d.h0.values,\n",
    "    h1=d.h1.values,\n",
    ")\n",
    "init_state = svi.init(random.PRNGKey(0))\n",
    "state, loss = lax.scan(lambda x, i: svi.update(x), init_state, jnp.zeros(1000))\n",
    "p6_7 = svi.get_params(state)\n",
    "post = m6_7.sample_posterior(random.PRNGKey(1), p6_7, (1000,))\n",
    "print_summary(post, 0.89, False)"
   ]
  },
  {
   "cell_type": "markdown",
   "metadata": {},
   "source": [
    "### Code 6.17"
   ]
  },
  {
   "cell_type": "code",
   "execution_count": 18,
   "metadata": {},
   "outputs": [
    {
     "name": "stdout",
     "output_type": "stream",
     "text": [
      "\n",
      "                mean       std    median      5.5%     94.5%     n_eff     r_hat\n",
      "         a      1.33      0.02      1.33      1.29      1.37    930.82      1.00\n",
      "        bt      0.13      0.04      0.12      0.08      0.19    880.02      1.00\n",
      "     sigma      1.73      0.12      1.73      1.55      1.94    948.82      1.00\n",
      "\n"
     ]
    }
   ],
   "source": [
    "def model(treatment, h0, h1):\n",
    "    a = numpyro.sample(\"a\", dist.LogNormal(0, 0.2))\n",
    "    bt = numpyro.sample(\"bt\", dist.Normal(0, 0.5))\n",
    "    sigma = numpyro.sample(\"sigma\", dist.Exponential(1))\n",
    "    p = a + bt * treatment\n",
    "    mu = h0 * p\n",
    "    numpyro.sample(\"h1\", dist.Normal(mu, sigma), obs=h1)\n",
    "\n",
    "\n",
    "m6_8 = AutoLaplaceApproximation(model)\n",
    "svi = SVI(\n",
    "    model,\n",
    "    m6_8,\n",
    "    optim.Adam(1),\n",
    "    ELBO(),\n",
    "    treatment=d.treatment.values,\n",
    "    h0=d.h0.values,\n",
    "    h1=d.h1.values,\n",
    ")\n",
    "init_state = svi.init(random.PRNGKey(0))\n",
    "state, loss = lax.scan(lambda x, i: svi.update(x), init_state, jnp.zeros(1000))\n",
    "p6_8 = svi.get_params(state)\n",
    "post = m6_8.sample_posterior(random.PRNGKey(1), p6_8, (1000,))\n",
    "print_summary(post, 0.89, False)"
   ]
  },
  {
   "cell_type": "markdown",
   "metadata": {},
   "source": [
    "### Code 6.18"
   ]
  },
  {
   "cell_type": "code",
   "execution_count": 19,
   "metadata": {},
   "outputs": [
    {
     "data": {
      "image/png": "[encoded data removed]",
      "text/plain": [
       "<Figure size 370.079x55.1181 with 1 Axes>"
      ]
     },
     "metadata": {},
     "output_type": "display_data"
    }
   ],
   "source": [
    "plant_dag = CausalGraphicalModel(\n",
    "    nodes=[\"H0\", \"H1\", \"F\", \"T\"], edges=[(\"H0\", \"H1\"), (\"F\", \"H1\"), (\"T\", \"F\")]\n",
    ")\n",
    "pgm = daft.PGM()\n",
    "coordinates = {\"H0\": (0, 0), \"T\": (4, 0), \"F\": (3, 0), \"H1\": (2, 0)}\n",
    "for node in plant_dag.dag.nodes:\n",
    "    pgm.add_node(node, node, *coordinates[node])\n",
    "for edge in plant_dag.dag.edges:\n",
    "    pgm.add_edge(*edge)\n",
    "with plt.rc_context({\"figure.constrained_layout.use\": False}):\n",
    "    pgm.render()"
   ]
  },
  {
   "cell_type": "markdown",
   "metadata": {},
   "source": [
    "### Code 6.19"
   ]
  },
  {
   "cell_type": "code",
   "execution_count": 20,
   "metadata": {},
   "outputs": [
    {
     "name": "stdout",
     "output_type": "stream",
     "text": [
      "('F', 'H0', set())\n",
      "('T', 'H0', set())\n",
      "('T', 'H1', {'F'})\n"
     ]
    }
   ],
   "source": [
    "all_independencies = plant_dag.get_all_independence_relationships()\n",
    "for s in all_independencies:\n",
    "    if all(\n",
    "        t[0] != s[0] or t[1] != s[1] or not t[2].issubset(s[2])\n",
    "        for t in all_independencies\n",
    "        if t != s\n",
    "    ):\n",
    "        print(s)"
   ]
  },
  {
   "cell_type": "markdown",
   "metadata": {},
   "source": [
    "### Code 6.20"
   ]
  },
  {
   "cell_type": "code",
   "execution_count": 21,
   "metadata": {},
   "outputs": [],
   "source": [
    "with numpyro.handlers.seed(rng_seed=71):\n",
    "    N = 1000\n",
    "    h0 = numpyro.sample(\"h0\", dist.Normal(10, 2).expand([N]))\n",
    "    treatment = jnp.repeat(jnp.arange(2), repeats=N // 2)\n",
    "    M = numpyro.sample(\"M\", dist.Bernoulli(probs=0.5).expand([N]))\n",
    "    fungus = numpyro.sample(\n",
    "        \"fungus\", dist.Binomial(total_count=1, probs=(0.5 - treatment * 0.4))\n",
    "    )\n",
    "    h1 = h0 + numpyro.sample(\"diff\", dist.Normal(5 + 3 * M))\n",
    "    d2 = pd.DataFrame({\"h0\": h0, \"h1\": h1, \"treatment\": treatment, \"fungus\": fungus})"
   ]
  },
  {
   "cell_type": "markdown",
   "metadata": {},
   "source": [
    "### Code 6.21"
   ]
  },
  {
   "cell_type": "code",
   "execution_count": 22,
   "metadata": {},
   "outputs": [
    {
     "ename": "TypeError",
     "evalue": "body_fun output and input must have identical types, got\n(ShapedArray(int32[]), ShapedArray(int32[], weak_type=True), ShapedArray(int32[20000]))\nand\n(ShapedArray(int32[], weak_type=True), ShapedArray(int32[], weak_type=True), ShapedArray(uint8[20000])).",
     "output_type": "error",
     "traceback": [
      "\u001b[1;31m---------------------------------------------------------------------------\u001b[0m",
      "\u001b[1;31mTypeError\u001b[0m                                 Traceback (most recent call last)",
      "\u001b[1;32m<ipython-input-22-0b2a39162070>\u001b[0m in \u001b[0;36m<module>\u001b[1;34m\u001b[0m\n\u001b[0;32m     23\u001b[0m \u001b[1;33m\u001b[0m\u001b[0m\n\u001b[0;32m     24\u001b[0m \u001b[1;33m\u001b[0m\u001b[0m\n\u001b[1;32m---> 25\u001b[1;33m \u001b[0md\u001b[0m \u001b[1;33m=\u001b[0m \u001b[0msim_happiness\u001b[0m\u001b[1;33m(\u001b[0m\u001b[0mseed\u001b[0m\u001b[1;33m=\u001b[0m\u001b[1;36m1977\u001b[0m\u001b[1;33m,\u001b[0m \u001b[0mN_years\u001b[0m\u001b[1;33m=\u001b[0m\u001b[1;36m1000\u001b[0m\u001b[1;33m)\u001b[0m\u001b[1;33m\u001b[0m\u001b[1;33m\u001b[0m\u001b[0m\n\u001b[0m\u001b[0;32m     26\u001b[0m \u001b[0mprint_summary\u001b[0m\u001b[1;33m(\u001b[0m\u001b[0mdict\u001b[0m\u001b[1;33m(\u001b[0m\u001b[0mzip\u001b[0m\u001b[1;33m(\u001b[0m\u001b[0md\u001b[0m\u001b[1;33m.\u001b[0m\u001b[0mcolumns\u001b[0m\u001b[1;33m,\u001b[0m \u001b[0md\u001b[0m\u001b[1;33m.\u001b[0m\u001b[0mT\u001b[0m\u001b[1;33m.\u001b[0m\u001b[0mvalues\u001b[0m\u001b[1;33m)\u001b[0m\u001b[1;33m)\u001b[0m\u001b[1;33m,\u001b[0m \u001b[1;36m0.89\u001b[0m\u001b[1;33m,\u001b[0m \u001b[1;32mFalse\u001b[0m\u001b[1;33m)\u001b[0m\u001b[1;33m\u001b[0m\u001b[1;33m\u001b[0m\u001b[0m\n",
      "\u001b[1;32m<ipython-input-22-0b2a39162070>\u001b[0m in \u001b[0;36msim_happiness\u001b[1;34m(seed, N_years, max_age, N_births, aom)\u001b[0m\n\u001b[0;32m     12\u001b[0m         \u001b[1;32mreturn\u001b[0m \u001b[0mjnp\u001b[0m\u001b[1;33m.\u001b[0m\u001b[0mwhere\u001b[0m\u001b[1;33m(\u001b[0m\u001b[1;33m(\u001b[0m\u001b[0mA\u001b[0m \u001b[1;33m>=\u001b[0m \u001b[0mi\u001b[0m\u001b[1;33m)\u001b[0m \u001b[1;33m&\u001b[0m \u001b[1;33m(\u001b[0m\u001b[0mM\u001b[0m \u001b[1;33m==\u001b[0m \u001b[1;36m0\u001b[0m\u001b[1;33m)\u001b[0m\u001b[1;33m,\u001b[0m \u001b[0mmarried\u001b[0m\u001b[1;33m,\u001b[0m \u001b[0mM\u001b[0m\u001b[1;33m)\u001b[0m\u001b[1;33m\u001b[0m\u001b[1;33m\u001b[0m\u001b[0m\n\u001b[0;32m     13\u001b[0m \u001b[1;33m\u001b[0m\u001b[0m\n\u001b[1;32m---> 14\u001b[1;33m     \u001b[0mM\u001b[0m \u001b[1;33m=\u001b[0m \u001b[0mlax\u001b[0m\u001b[1;33m.\u001b[0m\u001b[0mfori_loop\u001b[0m\u001b[1;33m(\u001b[0m\u001b[0maom\u001b[0m\u001b[1;33m,\u001b[0m \u001b[0mmax_age\u001b[0m \u001b[1;33m+\u001b[0m \u001b[1;36m1\u001b[0m\u001b[1;33m,\u001b[0m \u001b[0mupdate_M\u001b[0m\u001b[1;33m,\u001b[0m \u001b[0mM\u001b[0m\u001b[1;33m)\u001b[0m\u001b[1;33m\u001b[0m\u001b[1;33m\u001b[0m\u001b[0m\n\u001b[0m\u001b[0;32m     15\u001b[0m     \u001b[1;31m# mortality\u001b[0m\u001b[1;33m\u001b[0m\u001b[1;33m\u001b[0m\u001b[1;33m\u001b[0m\u001b[0m\n\u001b[0;32m     16\u001b[0m     \u001b[0mdeaths\u001b[0m \u001b[1;33m=\u001b[0m \u001b[0mA\u001b[0m \u001b[1;33m>\u001b[0m \u001b[0mmax_age\u001b[0m\u001b[1;33m\u001b[0m\u001b[1;33m\u001b[0m\u001b[0m\n",
      "\u001b[1;32m~\\anaconda3\\lib\\site-packages\\jax\\_src\\lax\\control_flow.py\u001b[0m in \u001b[0;36mfori_loop\u001b[1;34m(lower, upper, body_fun, init_val)\u001b[0m\n\u001b[0;32m    199\u001b[0m                              length=upper_ - lower_)\n\u001b[0;32m    200\u001b[0m   \u001b[1;32melse\u001b[0m\u001b[1;33m:\u001b[0m\u001b[1;33m\u001b[0m\u001b[1;33m\u001b[0m\u001b[0m\n\u001b[1;32m--> 201\u001b[1;33m     _, _, result = while_loop(_fori_cond_fun, _fori_body_fun(body_fun),\n\u001b[0m\u001b[0;32m    202\u001b[0m                               (lower, upper, init_val))\n\u001b[0;32m    203\u001b[0m   \u001b[1;32mreturn\u001b[0m \u001b[0mresult\u001b[0m\u001b[1;33m\u001b[0m\u001b[1;33m\u001b[0m\u001b[0m\n",
      "\u001b[1;32m~\\anaconda3\\lib\\site-packages\\jax\\_src\\lax\\control_flow.py\u001b[0m in \u001b[0;36mwhile_loop\u001b[1;34m(cond_fun, body_fun, init_val)\u001b[0m\n\u001b[0;32m    288\u001b[0m   \u001b[0min_tree_children\u001b[0m \u001b[1;33m=\u001b[0m \u001b[0min_tree\u001b[0m\u001b[1;33m.\u001b[0m\u001b[0mchildren\u001b[0m\u001b[1;33m(\u001b[0m\u001b[1;33m)\u001b[0m\u001b[1;33m\u001b[0m\u001b[1;33m\u001b[0m\u001b[0m\n\u001b[0;32m    289\u001b[0m   \u001b[1;32massert\u001b[0m \u001b[0mlen\u001b[0m\u001b[1;33m(\u001b[0m\u001b[0min_tree_children\u001b[0m\u001b[1;33m)\u001b[0m \u001b[1;33m==\u001b[0m \u001b[1;36m1\u001b[0m\u001b[1;33m\u001b[0m\u001b[1;33m\u001b[0m\u001b[0m\n\u001b[1;32m--> 290\u001b[1;33m   _check_tree_and_avals(\"body_fun output and input\",\n\u001b[0m\u001b[0;32m    291\u001b[0m                         \u001b[0mbody_tree\u001b[0m\u001b[1;33m,\u001b[0m \u001b[0mbody_jaxpr\u001b[0m\u001b[1;33m.\u001b[0m\u001b[0mout_avals\u001b[0m\u001b[1;33m,\u001b[0m\u001b[1;33m\u001b[0m\u001b[1;33m\u001b[0m\u001b[0m\n\u001b[0;32m    292\u001b[0m                         in_tree_children[0], init_avals)\n",
      "\u001b[1;32m~\\anaconda3\\lib\\site-packages\\jax\\_src\\lax\\control_flow.py\u001b[0m in \u001b[0;36m_check_tree_and_avals\u001b[1;34m(what, tree1, avals1, tree2, avals2)\u001b[0m\n\u001b[0;32m   1942\u001b[0m         f\"{what} must have same type structure, got {tree1} and {tree2}.\")\n\u001b[0;32m   1943\u001b[0m   \u001b[1;32mif\u001b[0m \u001b[1;32mnot\u001b[0m \u001b[0mall\u001b[0m\u001b[1;33m(\u001b[0m\u001b[0m_map\u001b[0m\u001b[1;33m(\u001b[0m\u001b[0mcore\u001b[0m\u001b[1;33m.\u001b[0m\u001b[0mtypematch\u001b[0m\u001b[1;33m,\u001b[0m \u001b[0mavals1\u001b[0m\u001b[1;33m,\u001b[0m \u001b[0mavals2\u001b[0m\u001b[1;33m)\u001b[0m\u001b[1;33m)\u001b[0m\u001b[1;33m:\u001b[0m\u001b[1;33m\u001b[0m\u001b[1;33m\u001b[0m\u001b[0m\n\u001b[1;32m-> 1944\u001b[1;33m     raise TypeError(\n\u001b[0m\u001b[0;32m   1945\u001b[0m         \u001b[1;34mf\"{what} must have identical types, got\\n\"\u001b[0m\u001b[1;33m\u001b[0m\u001b[1;33m\u001b[0m\u001b[0m\n\u001b[0;32m   1946\u001b[0m         \u001b[1;34mf\"{tree_unflatten(tree1, avals1)}\\nand\\n\"\u001b[0m\u001b[1;33m\u001b[0m\u001b[1;33m\u001b[0m\u001b[0m\n",
      "\u001b[1;31mTypeError\u001b[0m: body_fun output and input must have identical types, got\n(ShapedArray(int32[]), ShapedArray(int32[], weak_type=True), ShapedArray(int32[20000]))\nand\n(ShapedArray(int32[], weak_type=True), ShapedArray(int32[], weak_type=True), ShapedArray(uint8[20000]))."
     ]
    }
   ],
   "source": [
    "def sim_happiness(seed=1977, N_years=1000, max_age=65, N_births=20, aom=18):\n",
    "    # age existing individuals & newborns\n",
    "    A = jnp.repeat(jnp.arange(1, N_years + 1), N_births)\n",
    "    # sim happiness trait - never changes\n",
    "    H = jnp.repeat(jnp.linspace(-2, 2, N_births)[None, :], N_years, 0).reshape(-1)\n",
    "    # not yet married\n",
    "    M = jnp.zeros(N_years * N_births, dtype=jnp.uint8)\n",
    "\n",
    "    def update_M(i, M):\n",
    "        # for each person over 17, chance get married\n",
    "        married = dist.Bernoulli(logits=(H - 4)).sample(random.PRNGKey(seed + i))\n",
    "        return jnp.where((A >= i) & (M == 0), married, M)\n",
    "\n",
    "    M = lax.fori_loop(aom, max_age + 1, update_M, M)\n",
    "    # mortality\n",
    "    deaths = A > max_age\n",
    "    A = A[~deaths]\n",
    "    H = H[~deaths]\n",
    "    M = M[~deaths]\n",
    "\n",
    "    d = pd.DataFrame({\"age\": A, \"married\": M, \"happiness\": H})\n",
    "    return d\n",
    "\n",
    "\n",
    "d = sim_happiness(seed=1977, N_years=1000) \n",
    "print_summary(dict(zip(d.columns, d.T.values)), 0.89, False)"
   ]
  },
  {
   "cell_type": "markdown",
   "metadata": {},
   "source": [
    "### Code 6.22"
   ]
  },
  {
   "cell_type": "code",
   "execution_count": 23,
   "metadata": {},
   "outputs": [
    {
     "ename": "AttributeError",
     "evalue": "'DataFrame' object has no attribute 'age'",
     "output_type": "error",
     "traceback": [
      "\u001b[1;31m---------------------------------------------------------------------------\u001b[0m",
      "\u001b[1;31mAttributeError\u001b[0m                            Traceback (most recent call last)",
      "\u001b[1;32m<ipython-input-23-70b0addefc48>\u001b[0m in \u001b[0;36m<module>\u001b[1;34m\u001b[0m\n\u001b[1;32m----> 1\u001b[1;33m \u001b[0md2\u001b[0m \u001b[1;33m=\u001b[0m \u001b[0md\u001b[0m\u001b[1;33m[\u001b[0m\u001b[0md\u001b[0m\u001b[1;33m.\u001b[0m\u001b[0mage\u001b[0m \u001b[1;33m>\u001b[0m \u001b[1;36m17\u001b[0m\u001b[1;33m]\u001b[0m\u001b[1;33m.\u001b[0m\u001b[0mcopy\u001b[0m\u001b[1;33m(\u001b[0m\u001b[1;33m)\u001b[0m  \u001b[1;31m# only adults\u001b[0m\u001b[1;33m\u001b[0m\u001b[1;33m\u001b[0m\u001b[0m\n\u001b[0m\u001b[0;32m      2\u001b[0m \u001b[0md2\u001b[0m\u001b[1;33m[\u001b[0m\u001b[1;34m\"A\"\u001b[0m\u001b[1;33m]\u001b[0m \u001b[1;33m=\u001b[0m \u001b[1;33m(\u001b[0m\u001b[0md2\u001b[0m\u001b[1;33m.\u001b[0m\u001b[0mage\u001b[0m \u001b[1;33m-\u001b[0m \u001b[1;36m18\u001b[0m\u001b[1;33m)\u001b[0m \u001b[1;33m/\u001b[0m \u001b[1;33m(\u001b[0m\u001b[1;36m65\u001b[0m \u001b[1;33m-\u001b[0m \u001b[1;36m18\u001b[0m\u001b[1;33m)\u001b[0m\u001b[1;33m\u001b[0m\u001b[1;33m\u001b[0m\u001b[0m\n",
      "\u001b[1;32m~\\anaconda3\\lib\\site-packages\\pandas\\core\\generic.py\u001b[0m in \u001b[0;36m__getattr__\u001b[1;34m(self, name)\u001b[0m\n\u001b[0;32m   5137\u001b[0m             \u001b[1;32mif\u001b[0m \u001b[0mself\u001b[0m\u001b[1;33m.\u001b[0m\u001b[0m_info_axis\u001b[0m\u001b[1;33m.\u001b[0m\u001b[0m_can_hold_identifiers_and_holds_name\u001b[0m\u001b[1;33m(\u001b[0m\u001b[0mname\u001b[0m\u001b[1;33m)\u001b[0m\u001b[1;33m:\u001b[0m\u001b[1;33m\u001b[0m\u001b[1;33m\u001b[0m\u001b[0m\n\u001b[0;32m   5138\u001b[0m                 \u001b[1;32mreturn\u001b[0m \u001b[0mself\u001b[0m\u001b[1;33m[\u001b[0m\u001b[0mname\u001b[0m\u001b[1;33m]\u001b[0m\u001b[1;33m\u001b[0m\u001b[1;33m\u001b[0m\u001b[0m\n\u001b[1;32m-> 5139\u001b[1;33m             \u001b[1;32mreturn\u001b[0m \u001b[0mobject\u001b[0m\u001b[1;33m.\u001b[0m\u001b[0m__getattribute__\u001b[0m\u001b[1;33m(\u001b[0m\u001b[0mself\u001b[0m\u001b[1;33m,\u001b[0m \u001b[0mname\u001b[0m\u001b[1;33m)\u001b[0m\u001b[1;33m\u001b[0m\u001b[1;33m\u001b[0m\u001b[0m\n\u001b[0m\u001b[0;32m   5140\u001b[0m \u001b[1;33m\u001b[0m\u001b[0m\n\u001b[0;32m   5141\u001b[0m     \u001b[1;32mdef\u001b[0m \u001b[0m__setattr__\u001b[0m\u001b[1;33m(\u001b[0m\u001b[0mself\u001b[0m\u001b[1;33m,\u001b[0m \u001b[0mname\u001b[0m\u001b[1;33m:\u001b[0m \u001b[0mstr\u001b[0m\u001b[1;33m,\u001b[0m \u001b[0mvalue\u001b[0m\u001b[1;33m)\u001b[0m \u001b[1;33m->\u001b[0m \u001b[1;32mNone\u001b[0m\u001b[1;33m:\u001b[0m\u001b[1;33m\u001b[0m\u001b[1;33m\u001b[0m\u001b[0m\n",
      "\u001b[1;31mAttributeError\u001b[0m: 'DataFrame' object has no attribute 'age'"
     ]
    }
   ],
   "source": [
    "d2 = d[d.age > 17].copy()  # only adults\n",
    "d2[\"A\"] = (d2.age - 18) / (65 - 18)"
   ]
  },
  {
   "cell_type": "markdown",
   "metadata": {},
   "source": [
    "### Code 6.23"
   ]
  },
  {
   "cell_type": "code",
   "execution_count": 24,
   "metadata": {},
   "outputs": [
    {
     "ename": "AttributeError",
     "evalue": "'DataFrame' object has no attribute 'married'",
     "output_type": "error",
     "traceback": [
      "\u001b[1;31m---------------------------------------------------------------------------\u001b[0m",
      "\u001b[1;31mAttributeError\u001b[0m                            Traceback (most recent call last)",
      "\u001b[1;32m<ipython-input-24-e27fbb422f46>\u001b[0m in \u001b[0;36m<module>\u001b[1;34m\u001b[0m\n\u001b[1;32m----> 1\u001b[1;33m \u001b[0md2\u001b[0m\u001b[1;33m[\u001b[0m\u001b[1;34m\"mid\"\u001b[0m\u001b[1;33m]\u001b[0m \u001b[1;33m=\u001b[0m \u001b[0md2\u001b[0m\u001b[1;33m.\u001b[0m\u001b[0mmarried\u001b[0m\u001b[1;33m\u001b[0m\u001b[1;33m\u001b[0m\u001b[0m\n\u001b[0m\u001b[0;32m      2\u001b[0m \u001b[1;33m\u001b[0m\u001b[0m\n\u001b[0;32m      3\u001b[0m \u001b[1;33m\u001b[0m\u001b[0m\n\u001b[0;32m      4\u001b[0m \u001b[1;32mdef\u001b[0m \u001b[0mmodel\u001b[0m\u001b[1;33m(\u001b[0m\u001b[0mmid\u001b[0m\u001b[1;33m,\u001b[0m \u001b[0mA\u001b[0m\u001b[1;33m,\u001b[0m \u001b[0mhappiness\u001b[0m\u001b[1;33m)\u001b[0m\u001b[1;33m:\u001b[0m\u001b[1;33m\u001b[0m\u001b[1;33m\u001b[0m\u001b[0m\n\u001b[0;32m      5\u001b[0m     \u001b[0ma\u001b[0m \u001b[1;33m=\u001b[0m \u001b[0mnumpyro\u001b[0m\u001b[1;33m.\u001b[0m\u001b[0msample\u001b[0m\u001b[1;33m(\u001b[0m\u001b[1;34m\"a\"\u001b[0m\u001b[1;33m,\u001b[0m \u001b[0mdist\u001b[0m\u001b[1;33m.\u001b[0m\u001b[0mNormal\u001b[0m\u001b[1;33m(\u001b[0m\u001b[1;36m0\u001b[0m\u001b[1;33m,\u001b[0m \u001b[1;36m1\u001b[0m\u001b[1;33m)\u001b[0m\u001b[1;33m.\u001b[0m\u001b[0mexpand\u001b[0m\u001b[1;33m(\u001b[0m\u001b[1;33m[\u001b[0m\u001b[0mlen\u001b[0m\u001b[1;33m(\u001b[0m\u001b[0mset\u001b[0m\u001b[1;33m(\u001b[0m\u001b[0mmid\u001b[0m\u001b[1;33m)\u001b[0m\u001b[1;33m)\u001b[0m\u001b[1;33m]\u001b[0m\u001b[1;33m)\u001b[0m\u001b[1;33m)\u001b[0m\u001b[1;33m\u001b[0m\u001b[1;33m\u001b[0m\u001b[0m\n",
      "\u001b[1;32m~\\anaconda3\\lib\\site-packages\\pandas\\core\\generic.py\u001b[0m in \u001b[0;36m__getattr__\u001b[1;34m(self, name)\u001b[0m\n\u001b[0;32m   5137\u001b[0m             \u001b[1;32mif\u001b[0m \u001b[0mself\u001b[0m\u001b[1;33m.\u001b[0m\u001b[0m_info_axis\u001b[0m\u001b[1;33m.\u001b[0m\u001b[0m_can_hold_identifiers_and_holds_name\u001b[0m\u001b[1;33m(\u001b[0m\u001b[0mname\u001b[0m\u001b[1;33m)\u001b[0m\u001b[1;33m:\u001b[0m\u001b[1;33m\u001b[0m\u001b[1;33m\u001b[0m\u001b[0m\n\u001b[0;32m   5138\u001b[0m                 \u001b[1;32mreturn\u001b[0m \u001b[0mself\u001b[0m\u001b[1;33m[\u001b[0m\u001b[0mname\u001b[0m\u001b[1;33m]\u001b[0m\u001b[1;33m\u001b[0m\u001b[1;33m\u001b[0m\u001b[0m\n\u001b[1;32m-> 5139\u001b[1;33m             \u001b[1;32mreturn\u001b[0m \u001b[0mobject\u001b[0m\u001b[1;33m.\u001b[0m\u001b[0m__getattribute__\u001b[0m\u001b[1;33m(\u001b[0m\u001b[0mself\u001b[0m\u001b[1;33m,\u001b[0m \u001b[0mname\u001b[0m\u001b[1;33m)\u001b[0m\u001b[1;33m\u001b[0m\u001b[1;33m\u001b[0m\u001b[0m\n\u001b[0m\u001b[0;32m   5140\u001b[0m \u001b[1;33m\u001b[0m\u001b[0m\n\u001b[0;32m   5141\u001b[0m     \u001b[1;32mdef\u001b[0m \u001b[0m__setattr__\u001b[0m\u001b[1;33m(\u001b[0m\u001b[0mself\u001b[0m\u001b[1;33m,\u001b[0m \u001b[0mname\u001b[0m\u001b[1;33m:\u001b[0m \u001b[0mstr\u001b[0m\u001b[1;33m,\u001b[0m \u001b[0mvalue\u001b[0m\u001b[1;33m)\u001b[0m \u001b[1;33m->\u001b[0m \u001b[1;32mNone\u001b[0m\u001b[1;33m:\u001b[0m\u001b[1;33m\u001b[0m\u001b[1;33m\u001b[0m\u001b[0m\n",
      "\u001b[1;31mAttributeError\u001b[0m: 'DataFrame' object has no attribute 'married'"
     ]
    }
   ],
   "source": [
    "d2[\"mid\"] = d2.married\n",
    "\n",
    "\n",
    "def model(mid, A, happiness):\n",
    "    a = numpyro.sample(\"a\", dist.Normal(0, 1).expand([len(set(mid))]))\n",
    "    bA = numpyro.sample(\"bA\", dist.Normal(0, 2))\n",
    "    sigma = numpyro.sample(\"sigma\", dist.Exponential(1))\n",
    "    mu = a[mid] + bA * A\n",
    "    numpyro.sample(\"happiness\", dist.Normal(mu, sigma), obs=happiness)\n",
    "\n",
    "\n",
    "m6_9 = AutoLaplaceApproximation(model)\n",
    "svi = SVI(\n",
    "    model,\n",
    "    m6_9,\n",
    "    optim.Adam(1),\n",
    "    ELBO(),\n",
    "    mid=d2.mid.values,\n",
    "    A=d2.A.values,\n",
    "    happiness=d2.happiness.values,\n",
    ")\n",
    "init_state = svi.init(random.PRNGKey(0))\n",
    "state, loss = lax.scan(lambda x, i: svi.update(x), init_state, jnp.zeros(1000))\n",
    "p6_9 = svi.get_params(state)\n",
    "post = m6_9.sample_posterior(random.PRNGKey(1), p6_9, (1000,))\n",
    "print_summary(post, 0.89, False)"
   ]
  },
  {
   "cell_type": "markdown",
   "metadata": {},
   "source": [
    "### Code 6.24"
   ]
  },
  {
   "cell_type": "code",
   "execution_count": 25,
   "metadata": {},
   "outputs": [
    {
     "name": "stderr",
     "output_type": "stream",
     "text": [
      "FutureWarning: Using ELBO directly in SVI is deprecated. Please use Trace_ELBO class instead.\n"
     ]
    },
    {
     "ename": "AttributeError",
     "evalue": "'DataFrame' object has no attribute 'A'",
     "output_type": "error",
     "traceback": [
      "\u001b[1;31m---------------------------------------------------------------------------\u001b[0m",
      "\u001b[1;31mAttributeError\u001b[0m                            Traceback (most recent call last)",
      "\u001b[1;32m<ipython-input-25-68657fec5a5c>\u001b[0m in \u001b[0;36m<module>\u001b[1;34m\u001b[0m\n\u001b[0;32m      9\u001b[0m \u001b[0mm6_10\u001b[0m \u001b[1;33m=\u001b[0m \u001b[0mAutoLaplaceApproximation\u001b[0m\u001b[1;33m(\u001b[0m\u001b[0mmodel\u001b[0m\u001b[1;33m)\u001b[0m\u001b[1;33m\u001b[0m\u001b[1;33m\u001b[0m\u001b[0m\n\u001b[0;32m     10\u001b[0m svi = SVI(\n\u001b[1;32m---> 11\u001b[1;33m     \u001b[0mmodel\u001b[0m\u001b[1;33m,\u001b[0m \u001b[0mm6_10\u001b[0m\u001b[1;33m,\u001b[0m \u001b[0moptim\u001b[0m\u001b[1;33m.\u001b[0m\u001b[0mAdam\u001b[0m\u001b[1;33m(\u001b[0m\u001b[1;36m1\u001b[0m\u001b[1;33m)\u001b[0m\u001b[1;33m,\u001b[0m \u001b[0mELBO\u001b[0m\u001b[1;33m(\u001b[0m\u001b[1;33m)\u001b[0m\u001b[1;33m,\u001b[0m \u001b[0mA\u001b[0m\u001b[1;33m=\u001b[0m\u001b[0md2\u001b[0m\u001b[1;33m.\u001b[0m\u001b[0mA\u001b[0m\u001b[1;33m.\u001b[0m\u001b[0mvalues\u001b[0m\u001b[1;33m,\u001b[0m \u001b[0mhappiness\u001b[0m\u001b[1;33m=\u001b[0m\u001b[0md2\u001b[0m\u001b[1;33m.\u001b[0m\u001b[0mhappiness\u001b[0m\u001b[1;33m.\u001b[0m\u001b[0mvalues\u001b[0m\u001b[1;33m\u001b[0m\u001b[1;33m\u001b[0m\u001b[0m\n\u001b[0m\u001b[0;32m     12\u001b[0m )\n\u001b[0;32m     13\u001b[0m \u001b[0minit_state\u001b[0m \u001b[1;33m=\u001b[0m \u001b[0msvi\u001b[0m\u001b[1;33m.\u001b[0m\u001b[0minit\u001b[0m\u001b[1;33m(\u001b[0m\u001b[0mrandom\u001b[0m\u001b[1;33m.\u001b[0m\u001b[0mPRNGKey\u001b[0m\u001b[1;33m(\u001b[0m\u001b[1;36m0\u001b[0m\u001b[1;33m)\u001b[0m\u001b[1;33m)\u001b[0m\u001b[1;33m\u001b[0m\u001b[1;33m\u001b[0m\u001b[0m\n",
      "\u001b[1;32m~\\anaconda3\\lib\\site-packages\\pandas\\core\\generic.py\u001b[0m in \u001b[0;36m__getattr__\u001b[1;34m(self, name)\u001b[0m\n\u001b[0;32m   5137\u001b[0m             \u001b[1;32mif\u001b[0m \u001b[0mself\u001b[0m\u001b[1;33m.\u001b[0m\u001b[0m_info_axis\u001b[0m\u001b[1;33m.\u001b[0m\u001b[0m_can_hold_identifiers_and_holds_name\u001b[0m\u001b[1;33m(\u001b[0m\u001b[0mname\u001b[0m\u001b[1;33m)\u001b[0m\u001b[1;33m:\u001b[0m\u001b[1;33m\u001b[0m\u001b[1;33m\u001b[0m\u001b[0m\n\u001b[0;32m   5138\u001b[0m                 \u001b[1;32mreturn\u001b[0m \u001b[0mself\u001b[0m\u001b[1;33m[\u001b[0m\u001b[0mname\u001b[0m\u001b[1;33m]\u001b[0m\u001b[1;33m\u001b[0m\u001b[1;33m\u001b[0m\u001b[0m\n\u001b[1;32m-> 5139\u001b[1;33m             \u001b[1;32mreturn\u001b[0m \u001b[0mobject\u001b[0m\u001b[1;33m.\u001b[0m\u001b[0m__getattribute__\u001b[0m\u001b[1;33m(\u001b[0m\u001b[0mself\u001b[0m\u001b[1;33m,\u001b[0m \u001b[0mname\u001b[0m\u001b[1;33m)\u001b[0m\u001b[1;33m\u001b[0m\u001b[1;33m\u001b[0m\u001b[0m\n\u001b[0m\u001b[0;32m   5140\u001b[0m \u001b[1;33m\u001b[0m\u001b[0m\n\u001b[0;32m   5141\u001b[0m     \u001b[1;32mdef\u001b[0m \u001b[0m__setattr__\u001b[0m\u001b[1;33m(\u001b[0m\u001b[0mself\u001b[0m\u001b[1;33m,\u001b[0m \u001b[0mname\u001b[0m\u001b[1;33m:\u001b[0m \u001b[0mstr\u001b[0m\u001b[1;33m,\u001b[0m \u001b[0mvalue\u001b[0m\u001b[1;33m)\u001b[0m \u001b[1;33m->\u001b[0m \u001b[1;32mNone\u001b[0m\u001b[1;33m:\u001b[0m\u001b[1;33m\u001b[0m\u001b[1;33m\u001b[0m\u001b[0m\n",
      "\u001b[1;31mAttributeError\u001b[0m: 'DataFrame' object has no attribute 'A'"
     ]
    }
   ],
   "source": [
    "def model(A, happiness):\n",
    "    a = numpyro.sample(\"a\", dist.Normal(0, 1))\n",
    "    bA = numpyro.sample(\"bA\", dist.Normal(0, 2))\n",
    "    sigma = numpyro.sample(\"sigma\", dist.Exponential(1))\n",
    "    mu = a + bA * A\n",
    "    numpyro.sample(\"happiness\", dist.Normal(mu, sigma), obs=happiness)\n",
    "\n",
    "\n",
    "m6_10 = AutoLaplaceApproximation(model)\n",
    "svi = SVI(\n",
    "    model, m6_10, optim.Adam(1), ELBO(), A=d2.A.values, happiness=d2.happiness.values\n",
    ")\n",
    "init_state = svi.init(random.PRNGKey(0))\n",
    "state, loss = lax.scan(lambda x, i: svi.update(x), init_state, jnp.zeros(1000))\n",
    "p6_10 = svi.get_params(state)\n",
    "post = m6_10.sample_posterior(random.PRNGKey(1), p6_10, (1000,))\n",
    "print_summary(post, 0.89, False)"
   ]
  },
  {
   "cell_type": "markdown",
   "metadata": {},
   "source": [
    "### Code 6.25"
   ]
  },
  {
   "cell_type": "code",
   "execution_count": 26,
   "metadata": {},
   "outputs": [],
   "source": [
    "N = 200  # number of grandparent-parent-child triads\n",
    "b_GP = 1  # direct effect of G on P\n",
    "b_GC = 0  # direct effect of G on C\n",
    "b_PC = 1  # direct effect of P on C\n",
    "b_U = 2  # direct effect of U on P and C"
   ]
  },
  {
   "cell_type": "markdown",
   "metadata": {},
   "source": [
    "### Code 6.26"
   ]
  },
  {
   "cell_type": "code",
   "execution_count": 27,
   "metadata": {},
   "outputs": [],
   "source": [
    "with numpyro.handlers.seed(rng_seed=1):\n",
    "    U = 2 * numpyro.sample(\"U\", dist.Bernoulli(0.5).expand([N])) - 1\n",
    "    G = numpyro.sample(\"G\", dist.Normal().expand([N]))\n",
    "    P = numpyro.sample(\"P\", dist.Normal(b_GP * G + b_U * U))\n",
    "    C = numpyro.sample(\"C\", dist.Normal(b_PC * P + b_GC * G + b_U * U))\n",
    "    d = pd.DataFrame({\"C\": C, \"P\": P, \"G\": G, \"U\": U})"
   ]
  },
  {
   "cell_type": "markdown",
   "metadata": {},
   "source": [
    "### Code 6.27"
   ]
  },
  {
   "cell_type": "code",
   "execution_count": 28,
   "metadata": {},
   "outputs": [
    {
     "name": "stdout",
     "output_type": "stream",
     "text": [
      "\n",
      "                mean       std    median      5.5%     94.5%     n_eff     r_hat\n",
      "         a     -0.08      0.10     -0.09     -0.24      0.06   1049.96      1.00\n",
      "      b_GC     -0.71      0.11     -0.71     -0.89     -0.55    813.76      1.00\n",
      "      b_PC      1.72      0.04      1.72      1.65      1.79    982.64      1.00\n",
      "     sigma      1.39      0.07      1.39      1.28      1.49    968.54      1.00\n",
      "\n"
     ]
    }
   ],
   "source": [
    "def model(P, G, C):\n",
    "    a = numpyro.sample(\"a\", dist.Normal(0, 1))\n",
    "    b_PC = numpyro.sample(\"b_PC\", dist.Normal(0, 1))\n",
    "    b_GC = numpyro.sample(\"b_GC\", dist.Normal(0, 1))\n",
    "    sigma = numpyro.sample(\"sigma\", dist.Exponential(1))\n",
    "    mu = a + b_PC * P + b_GC * G\n",
    "    numpyro.sample(\"C\", dist.Normal(mu, sigma), obs=C)\n",
    "\n",
    "\n",
    "m6_11 = AutoLaplaceApproximation(model)\n",
    "svi = SVI(\n",
    "    model, m6_11, optim.Adam(0.3), ELBO(), P=d.P.values, G=d.G.values, C=d.C.values\n",
    ")\n",
    "init_state = svi.init(random.PRNGKey(0))\n",
    "state, loss = lax.scan(lambda x, i: svi.update(x), init_state, jnp.zeros(1000))\n",
    "p6_11 = svi.get_params(state)\n",
    "post = m6_11.sample_posterior(random.PRNGKey(1), p6_11, (1000,))\n",
    "print_summary(post, 0.89, False)"
   ]
  },
  {
   "cell_type": "markdown",
   "metadata": {},
   "source": [
    "### Code 6.28"
   ]
  },
  {
   "cell_type": "code",
   "execution_count": 29,
   "metadata": {},
   "outputs": [
    {
     "name": "stdout",
     "output_type": "stream",
     "text": [
      "\n",
      "                mean       std    median      5.5%     94.5%     n_eff     r_hat\n",
      "         U      1.89      0.17      1.90      1.60      2.15   1009.20      1.00\n",
      "         a     -0.03      0.08     -0.03     -0.16      0.10    765.87      1.00\n",
      "      b_GC      0.03      0.11      0.04     -0.13      0.20   1032.18      1.00\n",
      "      b_PC      1.02      0.08      1.02      0.90      1.14   1106.98      1.00\n",
      "     sigma      1.13      0.06      1.12      1.02      1.21    830.65      1.00\n",
      "\n"
     ]
    }
   ],
   "source": [
    "def model(P, G, U, C):\n",
    "    a = numpyro.sample(\"a\", dist.Normal(0, 1))\n",
    "    b_PC = numpyro.sample(\"b_PC\", dist.Normal(0, 1))\n",
    "    b_GC = numpyro.sample(\"b_GC\", dist.Normal(0, 1))\n",
    "    b_U = numpyro.sample(\"U\", dist.Normal(0, 1))\n",
    "    sigma = numpyro.sample(\"sigma\", dist.Exponential(1))\n",
    "    mu = a + b_PC * P + b_GC * G + b_U * U\n",
    "    numpyro.sample(\"C\", dist.Normal(mu, sigma), obs=C)\n",
    "\n",
    "\n",
    "m6_12 = AutoLaplaceApproximation(model)\n",
    "svi = SVI(\n",
    "    model,\n",
    "    m6_12,\n",
    "    optim.Adam(1),\n",
    "    ELBO(),\n",
    "    P=d.P.values,\n",
    "    G=d.G.values,\n",
    "    U=d.U.values,\n",
    "    C=d.C.values,\n",
    ")\n",
    "init_state = svi.init(random.PRNGKey(0))\n",
    "state, loss = lax.scan(lambda x, i: svi.update(x), init_state, jnp.zeros(2000))\n",
    "p6_12 = svi.get_params(state)\n",
    "post = m6_12.sample_posterior(random.PRNGKey(1), p6_12, (1000,))\n",
    "print_summary(post, 0.89, False)"
   ]
  },
  {
   "cell_type": "markdown",
   "metadata": {},
   "source": [
    "### Code 6.29"
   ]
  },
  {
   "cell_type": "code",
   "execution_count": 30,
   "metadata": {},
   "outputs": [
    {
     "name": "stdout",
     "output_type": "stream",
     "text": [
      "frozenset({'A'})\n",
      "frozenset({'C'})\n"
     ]
    }
   ],
   "source": [
    "dag_6_1 = CausalGraphicalModel(\n",
    "    nodes=[\"X\", \"Y\", \"C\", \"U\", \"B\", \"A\"],\n",
    "    edges=[\n",
    "        (\"X\", \"Y\"),\n",
    "        (\"U\", \"X\"),\n",
    "        (\"A\", \"U\"),\n",
    "        (\"A\", \"C\"),\n",
    "        (\"C\", \"Y\"),\n",
    "        (\"U\", \"B\"),\n",
    "        (\"C\", \"B\"),\n",
    "    ],\n",
    ")\n",
    "all_adjustment_sets = dag_6_1.get_all_backdoor_adjustment_sets(\"X\", \"Y\")\n",
    "for s in all_adjustment_sets:\n",
    "    if all(not t.issubset(s) for t in all_adjustment_sets if t != s):\n",
    "        if s != {\"U\"}:\n",
    "            print(s)"
   ]
  },
  {
   "cell_type": "markdown",
   "metadata": {},
   "source": [
    "### Code 6.30"
   ]
  },
  {
   "cell_type": "code",
   "execution_count": 31,
   "metadata": {},
   "outputs": [
    {
     "name": "stdout",
     "output_type": "stream",
     "text": [
      "frozenset({'S'})\n",
      "frozenset({'A', 'M'})\n"
     ]
    }
   ],
   "source": [
    "dag_6_2 = CausalGraphicalModel(\n",
    "    nodes=[\"S\", \"A\", \"D\", \"M\", \"W\"],\n",
    "    edges=[\n",
    "        (\"S\", \"A\"),\n",
    "        (\"A\", \"D\"),\n",
    "        (\"S\", \"M\"),\n",
    "        (\"M\", \"D\"),\n",
    "        (\"S\", \"W\"),\n",
    "        (\"W\", \"D\"),\n",
    "        (\"A\", \"M\"),\n",
    "    ],\n",
    ")\n",
    "all_adjustment_sets = dag_6_2.get_all_backdoor_adjustment_sets(\"W\", \"D\")\n",
    "for s in all_adjustment_sets:\n",
    "    if all(not t.issubset(s) for t in all_adjustment_sets if t != s):\n",
    "        print(s)"
   ]
  },
  {
   "cell_type": "markdown",
   "metadata": {},
   "source": [
    "### Code 6.31"
   ]
  },
  {
   "cell_type": "code",
   "execution_count": 32,
   "metadata": {},
   "outputs": [
    {
     "name": "stdout",
     "output_type": "stream",
     "text": [
      "('M', 'W', {'S'})\n",
      "('D', 'S', {'A', 'M', 'W'})\n",
      "('W', 'A', {'S'})\n"
     ]
    }
   ],
   "source": [
    "all_independencies = dag_6_2.get_all_independence_relationships()\n",
    "for s in all_independencies:\n",
    "    if all(\n",
    "        t[0] != s[0] or t[1] != s[1] or not t[2].issubset(s[2])\n",
    "        for t in all_independencies\n",
    "        if t != s\n",
    "    ):\n",
    "        print(s)"
   ]
  }
 ],
 "metadata": {
  "@webio": {
   "lastCommId": null,
   "lastKernelId": null
  },
  "kernelspec": {
   "display_name": "Python 3",
   "language": "python",
   "name": "python3"
  },
  "language_info": {
   "codemirror_mode": {
    "name": "ipython",
    "version": 3
   },
   "file_extension": ".py",
   "mimetype": "text/x-python",
   "name": "python",
   "nbconvert_exporter": "python",
   "pygments_lexer": "ipython3",
   "version": "3.8.5"
  }
 },
 "nbformat": 4,
 "nbformat_minor": 4
}
