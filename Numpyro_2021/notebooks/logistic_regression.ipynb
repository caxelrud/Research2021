{
 "cells": [
  {
   "cell_type": "markdown",
   "metadata": {},
   "source": [
    "# Benchmark NumPyro in large dataset"
   ]
  },
  {
   "cell_type": "markdown",
   "metadata": {},
   "source": [
    "This notebook uses `numpyro` and replicates experiments in references [1] which evaluates the performance of NUTS on various frameworks. The benchmark is run with CUDA 10.1 on a NVIDIA RTX 2070."
   ]
  },
  {
   "cell_type": "code",
   "execution_count": 1,
   "metadata": {},
   "outputs": [],
   "source": [
    "#!pip install -q numpyro@git+https://github.com/pyro-ppl/numpyro"
   ]
  },
  {
   "cell_type": "code",
   "execution_count": 2,
   "metadata": {},
   "outputs": [],
   "source": [
    "import time\n",
    "\n",
    "import numpy as np\n",
    "\n",
    "import jax.numpy as jnp\n",
    "from jax import random\n",
    "\n",
    "import numpyro\n",
    "import numpyro.distributions as dist\n",
    "from numpyro.examples.datasets import COVTYPE, load_dataset\n",
    "from numpyro.infer import HMC, MCMC, NUTS\n",
    "assert numpyro.__version__.startswith('0.5.0')\n",
    "\n",
    "# NB: replace gpu by cpu to run this notebook in cpu\n",
    "#numpyro.set_platform(\"cpu\") #CA\n",
    "numpyro.set_platform(\"gpu\")"
   ]
  },
  {
   "cell_type": "markdown",
   "metadata": {},
   "source": [
    "We do preprocessing steps as in [source code](https://github.com/google-research/google-research/blob/master/simple_probabilistic_programming/no_u_turn_sampler/logistic_regression.py) of reference [1]:"
   ]
  },
  {
   "cell_type": "code",
   "execution_count": 3,
   "metadata": {},
   "outputs": [
    {
     "name": "stdout",
     "output_type": "stream",
     "text": [
      "Data shape: (581012, 55)\n",
      "Label distribution: 211840 has label 1, 369172 has label 0\n"
     ]
    }
   ],
   "source": [
    "_, fetch = load_dataset(COVTYPE, shuffle=False)\n",
    "features, labels = fetch()\n",
    "\n",
    "# normalize features and add intercept\n",
    "features = (features - features.mean(0)) / features.std(0)\n",
    "features = jnp.hstack([features, jnp.ones((features.shape[0], 1))])\n",
    "\n",
    "# make binary feature\n",
    "_, counts = np.unique(labels, return_counts=True)\n",
    "specific_category = jnp.argmax(counts)\n",
    "labels = (labels == specific_category)\n",
    "\n",
    "N, dim = features.shape\n",
    "print(\"Data shape:\", features.shape)\n",
    "print(\"Label distribution: {} has label 1, {} has label 0\"\n",
    "      .format(labels.sum(), N - labels.sum()))"
   ]
  },
  {
   "cell_type": "markdown",
   "metadata": {},
   "source": [
    "Now, we construct the model:"
   ]
  },
  {
   "cell_type": "code",
   "execution_count": 4,
   "metadata": {},
   "outputs": [],
   "source": [
    "def model(data, labels):\n",
    "    coefs = numpyro.sample('coefs', dist.Normal(jnp.zeros(dim), jnp.ones(dim)))\n",
    "    logits = jnp.dot(data, coefs)\n",
    "    return numpyro.sample('obs', dist.Bernoulli(logits=logits), obs=labels)"
   ]
  },
  {
   "cell_type": "markdown",
   "metadata": {},
   "source": [
    "## Benchmark HMC"
   ]
  },
  {
   "cell_type": "code",
   "execution_count": 5,
   "metadata": {},
   "outputs": [
    {
     "name": "stdout",
     "output_type": "stream",
     "text": [
      "number of leapfrog steps: 5000\n",
      "avg. time for each step : 0.003021224784851074\n",
      "\n",
      "                mean       std    median      5.0%     95.0%     n_eff     r_hat\n",
      "  coefs[0]      1.98      0.00      1.98      1.98      1.98      3.98      1.58\n",
      "  coefs[1]     -0.03      0.00     -0.03     -0.03     -0.03      3.62      1.70\n",
      "  coefs[2]     -0.12      0.00     -0.12     -0.12     -0.12      5.73      1.07\n",
      "  coefs[3]     -0.30      0.00     -0.30     -0.30     -0.30      3.45      1.68\n",
      "  coefs[4]     -0.10      0.00     -0.10     -0.10     -0.10      5.43      1.02\n",
      "  coefs[5]     -0.15      0.00     -0.15     -0.16     -0.15      2.59      3.18\n",
      "  coefs[6]     -0.04      0.00     -0.04     -0.04     -0.04      2.64      2.74\n",
      "  coefs[7]     -0.49      0.00     -0.49     -0.49     -0.49      4.99      1.43\n",
      "  coefs[8]      0.25      0.00      0.25      0.24      0.25      4.07      1.70\n",
      "  coefs[9]     -0.02      0.00     -0.02     -0.02     -0.02      6.43      1.48\n",
      " coefs[10]     -0.23      0.00     -0.23     -0.23     -0.23      3.66      1.45\n",
      " coefs[11]     -0.32      0.00     -0.32     -0.32     -0.32      3.74      1.26\n",
      " coefs[12]     -0.55      0.00     -0.55     -0.55     -0.55      2.66      2.52\n",
      " coefs[13]     -1.96      0.00     -1.96     -1.96     -1.96      2.60      2.70\n",
      " coefs[14]      0.25      0.00      0.25      0.25      0.25      9.89      1.11\n",
      " coefs[15]     -1.05      0.00     -1.05     -1.05     -1.05      3.75      1.85\n",
      " coefs[16]     -1.25      0.00     -1.25     -1.25     -1.25      5.08      1.16\n",
      " coefs[17]     -0.21      0.00     -0.21     -0.21     -0.21      4.56      1.15\n",
      " coefs[18]     -0.08      0.00     -0.08     -0.08     -0.08      2.42      2.98\n",
      " coefs[19]     -0.68      0.00     -0.68     -0.68     -0.68      2.72      2.13\n",
      " coefs[20]     -0.13      0.00     -0.13     -0.13     -0.13      2.76      2.25\n",
      " coefs[21]     -0.02      0.00     -0.02     -0.02     -0.02     25.95      1.00\n",
      " coefs[22]      0.02      0.00      0.02      0.02      0.02      2.99      2.12\n",
      " coefs[23]     -0.15      0.00     -0.15     -0.15     -0.15      2.79      2.62\n",
      " coefs[24]     -0.12      0.00     -0.12     -0.12     -0.12      4.18      1.16\n",
      " coefs[25]     -0.33      0.00     -0.33     -0.33     -0.33      5.82      1.22\n",
      " coefs[26]     -0.18      0.00     -0.18     -0.18     -0.18      3.85      1.24\n",
      " coefs[27]     -1.20      0.00     -1.20     -1.20     -1.20      3.05      2.00\n",
      " coefs[28]     -0.06      0.00     -0.06     -0.06     -0.06      7.18      1.12\n",
      " coefs[29]     -0.02      0.00     -0.02     -0.02     -0.02      4.92      1.46\n",
      " coefs[30]     -0.04      0.00     -0.04     -0.04     -0.04      3.09      1.86\n",
      " coefs[31]     -0.06      0.00     -0.06     -0.06     -0.06      3.86      1.50\n",
      " coefs[32]     -0.02      0.00     -0.02     -0.02     -0.02      5.99      1.06\n",
      " coefs[33]     -0.03      0.00     -0.03     -0.03     -0.03      7.85      1.22\n",
      " coefs[34]      0.11      0.00      0.11      0.11      0.11      6.54      1.21\n",
      " coefs[35]      0.07      0.00      0.07      0.07      0.08      2.54      2.73\n",
      " coefs[36]     -0.00      0.00     -0.00     -0.00     -0.00      7.26      1.22\n",
      " coefs[37]     -0.07      0.00     -0.07     -0.07     -0.07      2.73      2.32\n",
      " coefs[38]     -0.03      0.00     -0.03     -0.03     -0.03      4.38      1.32\n",
      " coefs[39]     -0.06      0.00     -0.06     -0.07     -0.06      5.97      1.21\n",
      " coefs[40]     -0.00      0.00     -0.00     -0.01     -0.00      2.57      2.43\n",
      " coefs[41]     -0.06      0.00     -0.06     -0.06     -0.06      3.48      1.79\n",
      " coefs[42]     -0.39      0.00     -0.39     -0.39     -0.39      2.75      2.33\n",
      " coefs[43]     -0.27      0.00     -0.27     -0.27     -0.27      7.58      1.07\n",
      " coefs[44]     -0.07      0.00     -0.07     -0.07     -0.07      5.97      1.26\n",
      " coefs[45]     -0.25      0.00     -0.25     -0.25     -0.25      2.58      2.47\n",
      " coefs[46]     -0.09      0.00     -0.09     -0.09     -0.09      9.15      1.01\n",
      " coefs[47]     -0.12      0.00     -0.12     -0.12     -0.12      2.94      1.96\n",
      " coefs[48]     -0.15      0.00     -0.15     -0.15     -0.15      4.66      1.40\n",
      " coefs[49]     -0.05      0.00     -0.05     -0.05     -0.04      3.09      2.30\n",
      " coefs[50]     -0.95      0.00     -0.95     -0.95     -0.95     10.63      1.01\n",
      " coefs[51]     -0.32      0.00     -0.32     -0.32     -0.32      4.89      1.56\n",
      " coefs[52]     -0.30      0.00     -0.30     -0.30     -0.29     12.57      1.35\n",
      " coefs[53]     -0.30      0.00     -0.30     -0.30     -0.30      8.05      1.00\n",
      " coefs[54]     -1.76      0.00     -1.76     -1.76     -1.76      3.48      1.46\n",
      "\n",
      "Number of divergences: 0\n"
     ]
    }
   ],
   "source": [
    "step_size = jnp.sqrt(0.5 / N)\n",
    "kernel = HMC(model, step_size=step_size, trajectory_length=(10 * step_size), adapt_step_size=False)\n",
    "mcmc = MCMC(kernel, num_warmup=500, num_samples=500, progress_bar=False)\n",
    "mcmc.warmup(random.PRNGKey(2019), features, labels, extra_fields=('num_steps',))\n",
    "mcmc.get_extra_fields()['num_steps'].sum().copy()\n",
    "tic = time.time()\n",
    "mcmc.run(random.PRNGKey(2020), features, labels, extra_fields=['num_steps'])\n",
    "num_leapfrogs = mcmc.get_extra_fields()['num_steps'].sum().copy()\n",
    "toc = time.time()\n",
    "print(\"number of leapfrog steps:\", num_leapfrogs)\n",
    "print(\"avg. time for each step :\", (toc - tic) / num_leapfrogs)\n",
    "mcmc.print_summary()"
   ]
  },
  {
   "cell_type": "markdown",
   "metadata": {},
   "source": [
    "In CPU, we get `avg. time for each step : 0.02782863507270813`."
   ]
  },
  {
   "cell_type": "markdown",
   "metadata": {},
   "source": [
    "## Benchmark NUTS"
   ]
  },
  {
   "cell_type": "code",
   "execution_count": 6,
   "metadata": {},
   "outputs": [
    {
     "name": "stdout",
     "output_type": "stream",
     "text": [
      "number of leapfrog steps: 49262\n",
      "avg. time for each step : 0.004623858861213508\n",
      "\n",
      "                mean       std    median      5.0%     95.0%     n_eff     r_hat\n",
      "  coefs[0]      1.97      0.01      1.97      1.96      1.99     33.46      1.01\n",
      "  coefs[1]     -0.04      0.00     -0.04     -0.05     -0.03     38.63      1.01\n",
      "  coefs[2]     -0.06      0.01     -0.06     -0.08     -0.04     41.08      1.03\n",
      "  coefs[3]     -0.30      0.00     -0.30     -0.31     -0.30     93.01      1.00\n",
      "  coefs[4]     -0.09      0.00     -0.09     -0.10     -0.08    209.27      0.98\n",
      "  coefs[5]     -0.14      0.00     -0.15     -0.15     -0.14     34.54      1.01\n",
      "  coefs[6]      0.26      0.04      0.26      0.22      0.33     61.87      0.98\n",
      "  coefs[7]     -0.67      0.02     -0.67     -0.70     -0.64     59.25      0.98\n",
      "  coefs[8]      0.60      0.04      0.59      0.55      0.67     73.34      0.98\n",
      "  coefs[9]     -0.01      0.00     -0.01     -0.02     -0.01     38.63      0.99\n",
      " coefs[10]      0.22      0.42      0.38     -0.38      0.75      2.64      2.24\n",
      " coefs[11]     -0.13      0.19     -0.06     -0.39      0.12      2.63      2.25\n",
      " coefs[12]     -0.10      0.42      0.06     -0.69      0.43      2.63      2.25\n",
      " coefs[13]     -1.66      0.39     -1.68     -2.31     -1.08     11.56      1.12\n",
      " coefs[14]     -0.57      0.47     -0.46     -1.40      0.11     14.32      0.99\n",
      " coefs[15]     -1.80      0.23     -1.79     -2.27     -1.58      6.06      1.01\n",
      " coefs[16]     -1.10      0.24     -1.08     -1.43     -0.73      6.19      1.23\n",
      " coefs[17]     -0.33      0.05     -0.34     -0.40     -0.26     22.85      0.98\n",
      " coefs[18]     -0.64      0.66     -0.52     -1.53      0.22     32.06      0.98\n",
      " coefs[19]     -0.97      0.54     -0.90     -1.75     -0.08     10.83      1.06\n",
      " coefs[20]     -0.90      0.56     -0.84     -1.65     -0.12     18.22      1.00\n",
      " coefs[21]     -0.03      0.01     -0.03     -0.04     -0.02     23.03      0.98\n",
      " coefs[22]     -0.02      0.01     -0.02     -0.04      0.00     25.83      0.98\n",
      " coefs[23]     -0.35      0.08     -0.38     -0.47     -0.26     21.86      0.99\n",
      " coefs[24]     -0.24      0.05     -0.26     -0.31     -0.17     22.62      0.98\n",
      " coefs[25]     -0.51      0.07     -0.53     -0.61     -0.40     21.71      0.98\n",
      " coefs[26]     -0.31      0.06     -0.32     -0.38     -0.22     21.86      0.98\n",
      " coefs[27]     -1.51      0.22     -1.45     -1.91     -1.28      8.79      1.15\n",
      " coefs[28]     -0.25      0.18     -0.22     -0.49      0.02      9.30      1.14\n",
      " coefs[29]     -0.08      0.02     -0.09     -0.11     -0.05     21.61      0.99\n",
      " coefs[30]     -0.10      0.03     -0.11     -0.14     -0.07     23.85      0.98\n",
      " coefs[31]     -0.11      0.02     -0.11     -0.13     -0.08     24.43      1.00\n",
      " coefs[32]     -0.08      0.03     -0.09     -0.12     -0.05     22.35      0.98\n",
      " coefs[33]     -0.10      0.04     -0.12     -0.16     -0.04     21.07      0.98\n",
      " coefs[34]      0.07      0.01      0.07      0.05      0.09     26.88      0.98\n",
      " coefs[35]     -0.13      0.08     -0.15     -0.24     -0.03     21.21      0.98\n",
      " coefs[36]     -0.26      0.10     -0.29     -0.40     -0.13     21.59      0.98\n",
      " coefs[37]     -0.21      0.06     -0.23     -0.30     -0.13     21.22      0.98\n",
      " coefs[38]     -0.07      0.01     -0.07     -0.08     -0.06     22.49      1.00\n",
      " coefs[39]     -0.12      0.02     -0.13     -0.15     -0.08     22.00      0.98\n",
      " coefs[40]     -0.04      0.01     -0.04     -0.06     -0.01     21.02      0.98\n",
      " coefs[41]     -0.09      0.01     -0.09     -0.11     -0.06     22.31      0.98\n",
      " coefs[42]     -0.75      0.13     -0.80     -0.92     -0.56     21.05      0.98\n",
      " coefs[43]     -0.45      0.07     -0.47     -0.55     -0.35     20.75      0.98\n",
      " coefs[44]     -0.24      0.07     -0.26     -0.34     -0.14     21.76      0.98\n",
      " coefs[45]     -0.47      0.09     -0.50     -0.61     -0.35     21.57      0.98\n",
      " coefs[46]     -0.32      0.09     -0.35     -0.46     -0.21     21.19      0.98\n",
      " coefs[47]     -0.17      0.02     -0.18     -0.20     -0.15     24.39      0.99\n",
      " coefs[48]     -0.19      0.02     -0.19     -0.21     -0.16     23.21      0.98\n",
      " coefs[49]     -0.06      0.01     -0.05     -0.07     -0.04     26.22      1.01\n",
      " coefs[50]     -1.23      0.15     -1.21     -1.49     -0.99     11.15      1.24\n",
      " coefs[51]     -0.44      0.05     -0.45     -0.51     -0.36     22.27      0.98\n",
      " coefs[52]     -0.42      0.05     -0.43     -0.48     -0.34     21.47      0.98\n",
      " coefs[53]     -0.40      0.04     -0.41     -0.46     -0.35     21.53      0.98\n",
      " coefs[54]     -1.95      0.10     -1.93     -2.11     -1.78     30.92      1.01\n",
      "\n",
      "Number of divergences: 0\n"
     ]
    }
   ],
   "source": [
    "mcmc = MCMC(NUTS(model), num_warmup=50, num_samples=50, progress_bar=False)\n",
    "mcmc.warmup(random.PRNGKey(2019), features, labels, extra_fields=('num_steps',))\n",
    "mcmc.get_extra_fields()['num_steps'].sum().copy()\n",
    "tic = time.time()\n",
    "mcmc.run(random.PRNGKey(2020), features, labels, extra_fields=['num_steps'])\n",
    "num_leapfrogs = mcmc.get_extra_fields()['num_steps'].sum().copy()\n",
    "toc = time.time()\n",
    "print(\"number of leapfrog steps:\", num_leapfrogs)\n",
    "print(\"avg. time for each step :\", (toc - tic) / num_leapfrogs)\n",
    "mcmc.print_summary()"
   ]
  },
  {
   "cell_type": "markdown",
   "metadata": {},
   "source": [
    "In CPU, we get `avg. time for each step : 0.028006251705287415`."
   ]
  },
  {
   "cell_type": "markdown",
   "metadata": {},
   "source": [
    "## Compare to other frameworks"
   ]
  },
  {
   "cell_type": "markdown",
   "metadata": {},
   "source": [
    "|               |    HMC    |    NUTS   |\n",
    "| ------------- |----------:|----------:|\n",
    "| Edward2 (CPU) |           |  56.1 ms  |\n",
    "| Edward2 (GPU) |           |   9.4 ms  |\n",
    "| Pyro (CPU)    |  35.4 ms  |  35.3 ms  |\n",
    "| Pyro (GPU)    |   3.5 ms  |   4.2 ms  |\n",
    "| NumPyro (CPU) |  27.8 ms  |  28.0 ms  |\n",
    "| NumPyro (GPU) |   1.6 ms  |   2.2 ms  |"
   ]
  },
  {
   "cell_type": "markdown",
   "metadata": {},
   "source": [
    "Note that in some situtation, HMC is slower than NUTS. The reason is the number of leapfrog steps in each HMC trajectory is fixed to $10$, while it is not fixed in NUTS."
   ]
  },
  {
   "cell_type": "markdown",
   "metadata": {},
   "source": [
    "**Some takeaways:**\n",
    "+ The overhead of iterative NUTS is pretty small. So most of computation time is indeed spent for evaluating potential function and its gradient.\n",
    "+ GPU outperforms CPU by a large margin. The data is large, so evaluating potential function in GPU is clearly faster than doing so in CPU."
   ]
  },
  {
   "cell_type": "markdown",
   "metadata": {},
   "source": [
    "## References\n",
    "\n",
    "1. `Simple, Distributed, and Accelerated Probabilistic Programming,` [arxiv](https://arxiv.org/abs/1811.02091)<br>\n",
    "Dustin Tran, Matthew D. Hoffman, Dave Moore, Christopher Suter, Srinivas Vasudevan, Alexey Radul, Matthew Johnson, Rif A. Saurous"
   ]
  }
 ],
 "metadata": {
  "@webio": {
   "lastCommId": null,
   "lastKernelId": null
  },
  "kernelspec": {
   "display_name": "Python 3",
   "language": "python",
   "name": "python3"
  },
  "language_info": {
   "codemirror_mode": {
    "name": "ipython",
    "version": 3
   },
   "file_extension": ".py",
   "mimetype": "text/x-python",
   "name": "python",
   "nbconvert_exporter": "python",
   "pygments_lexer": "ipython3",
   "version": "3.8.5"
  }
 },
 "nbformat": 4,
 "nbformat_minor": 4
}
