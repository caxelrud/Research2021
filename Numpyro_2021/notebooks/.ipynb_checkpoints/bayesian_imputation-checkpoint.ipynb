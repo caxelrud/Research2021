{
 "cells": [
  {
   "cell_type": "markdown",
   "metadata": {},
   "source": [
    "# Bayesian Imputation"
   ]
  },
  {
   "cell_type": "markdown",
   "metadata": {},
   "source": [
    "Real-world datasets often contain many missing values. In those situations, we have to either remove those missing data (also known as \"complete case\") or replace them by some values. Though using complete case is pretty straightforward, it is only applicable when the number of missing entries is so small that throwing away those entries would not affect much the power of the analysis we are conducting on the data. The second strategy, also known as [imputation](https://en.wikipedia.org/wiki/Imputation_%28statistics%29), is more applicable and will be our focus in this tutorial.\n",
    "\n",
    "Probably the most popular way to perform imputation is to fill a missing value with the mean, median, or mode of its corresponding feature. In that case, we implicitly assume that the feature containing missing values has no correlation with the remaining features of our dataset. This is a pretty strong assumption and might not be true in general. In addition, it does not encode any uncertainty that we might put on those values. Below, we will construct a *Bayesian* setting to resolve those issues. In particular, given a model on the dataset, we will\n",
    "\n",
    "+ create a generative model for the feature with missing value\n",
    "+ and consider missing values as unobserved latent variables."
   ]
  },
  {
   "cell_type": "code",
   "execution_count": 1,
   "metadata": {},
   "outputs": [],
   "source": [
    "#!pip install -q numpyro@git+https://github.com/pyro-ppl/numpyro"
   ]
  },
  {
   "cell_type": "code",
   "execution_count": 2,
   "metadata": {},
   "outputs": [],
   "source": [
    "# first, we need some imports\n",
    "import os\n",
    "\n",
    "from IPython.display import set_matplotlib_formats\n",
    "from matplotlib import pyplot as plt\n",
    "import numpy as np\n",
    "import pandas as pd\n",
    "\n",
    "from jax import numpy as jnp\n",
    "from jax import ops, random\n",
    "from jax.scipy.special import expit\n",
    "\n",
    "import numpyro\n",
    "from numpyro import distributions as dist\n",
    "from numpyro.distributions import constraints\n",
    "from numpyro.infer import MCMC, NUTS, Predictive\n",
    "\n",
    "plt.style.use(\"seaborn\")\n",
    "if \"NUMPYRO_SPHINXBUILD\" in os.environ:\n",
    "    set_matplotlib_formats(\"svg\")\n",
    "\n",
    "assert numpyro.__version__.startswith('0.5.0')"
   ]
  },
  {
   "cell_type": "markdown",
   "metadata": {},
   "source": [
    "## Dataset"
   ]
  },
  {
   "cell_type": "markdown",
   "metadata": {},
   "source": [
    "The data is taken from the competition [Titanic: Machine Learning from Disaster](https://www.kaggle.com/c/titanic) hosted on [kaggle](https://www.kaggle.com/). It contains information of passengers in the [Titanic accident](https://en.wikipedia.org/wiki/Sinking_of_the_RMS_Titanic) such as name, age, gender,... And our target is to predict if a person is more likely to survive."
   ]
  },
  {
   "cell_type": "code",
   "execution_count": 3,
   "metadata": {},
   "outputs": [
    {
     "name": "stdout",
     "output_type": "stream",
     "text": [
      "<class 'pandas.core.frame.DataFrame'>\n",
      "RangeIndex: 891 entries, 0 to 890\n",
      "Data columns (total 12 columns):\n",
      " #   Column       Non-Null Count  Dtype  \n",
      "---  ------       --------------  -----  \n",
      " 0   PassengerId  891 non-null    int64  \n",
      " 1   Survived     891 non-null    int64  \n",
      " 2   Pclass       891 non-null    int64  \n",
      " 3   Name         891 non-null    object \n",
      " 4   Sex          891 non-null    object \n",
      " 5   Age          714 non-null    float64\n",
      " 6   SibSp        891 non-null    int64  \n",
      " 7   Parch        891 non-null    int64  \n",
      " 8   Ticket       891 non-null    object \n",
      " 9   Fare         891 non-null    float64\n",
      " 10  Cabin        204 non-null    object \n",
      " 11  Embarked     889 non-null    object \n",
      "dtypes: float64(2), int64(5), object(5)\n",
      "memory usage: 83.7+ KB\n"
     ]
    },
    {
     "data": {
      "text/html": [
       "<div>\n",
       "<style scoped>\n",
       "    .dataframe tbody tr th:only-of-type {\n",
       "        vertical-align: middle;\n",
       "    }\n",
       "\n",
       "    .dataframe tbody tr th {\n",
       "        vertical-align: top;\n",
       "    }\n",
       "\n",
       "    .dataframe thead th {\n",
       "        text-align: right;\n",
       "    }\n",
       "</style>\n",
       "<table border=\"1\" class=\"dataframe\">\n",
       "  <thead>\n",
       "    <tr style=\"text-align: right;\">\n",
       "      <th></th>\n",
       "      <th>PassengerId</th>\n",
       "      <th>Survived</th>\n",
       "      <th>Pclass</th>\n",
       "      <th>Name</th>\n",
       "      <th>Sex</th>\n",
       "      <th>Age</th>\n",
       "      <th>SibSp</th>\n",
       "      <th>Parch</th>\n",
       "      <th>Ticket</th>\n",
       "      <th>Fare</th>\n",
       "      <th>Cabin</th>\n",
       "      <th>Embarked</th>\n",
       "    </tr>\n",
       "  </thead>\n",
       "  <tbody>\n",
       "    <tr>\n",
       "      <th>0</th>\n",
       "      <td>1</td>\n",
       "      <td>0</td>\n",
       "      <td>3</td>\n",
       "      <td>Braund, Mr. Owen Harris</td>\n",
       "      <td>male</td>\n",
       "      <td>22.0</td>\n",
       "      <td>1</td>\n",
       "      <td>0</td>\n",
       "      <td>A/5 21171</td>\n",
       "      <td>7.2500</td>\n",
       "      <td>NaN</td>\n",
       "      <td>S</td>\n",
       "    </tr>\n",
       "    <tr>\n",
       "      <th>1</th>\n",
       "      <td>2</td>\n",
       "      <td>1</td>\n",
       "      <td>1</td>\n",
       "      <td>Cumings, Mrs. John Bradley (Florence Briggs Th...</td>\n",
       "      <td>female</td>\n",
       "      <td>38.0</td>\n",
       "      <td>1</td>\n",
       "      <td>0</td>\n",
       "      <td>PC 17599</td>\n",
       "      <td>71.2833</td>\n",
       "      <td>C85</td>\n",
       "      <td>C</td>\n",
       "    </tr>\n",
       "    <tr>\n",
       "      <th>2</th>\n",
       "      <td>3</td>\n",
       "      <td>1</td>\n",
       "      <td>3</td>\n",
       "      <td>Heikkinen, Miss. Laina</td>\n",
       "      <td>female</td>\n",
       "      <td>26.0</td>\n",
       "      <td>0</td>\n",
       "      <td>0</td>\n",
       "      <td>STON/O2. 3101282</td>\n",
       "      <td>7.9250</td>\n",
       "      <td>NaN</td>\n",
       "      <td>S</td>\n",
       "    </tr>\n",
       "    <tr>\n",
       "      <th>3</th>\n",
       "      <td>4</td>\n",
       "      <td>1</td>\n",
       "      <td>1</td>\n",
       "      <td>Futrelle, Mrs. Jacques Heath (Lily May Peel)</td>\n",
       "      <td>female</td>\n",
       "      <td>35.0</td>\n",
       "      <td>1</td>\n",
       "      <td>0</td>\n",
       "      <td>113803</td>\n",
       "      <td>53.1000</td>\n",
       "      <td>C123</td>\n",
       "      <td>S</td>\n",
       "    </tr>\n",
       "    <tr>\n",
       "      <th>4</th>\n",
       "      <td>5</td>\n",
       "      <td>0</td>\n",
       "      <td>3</td>\n",
       "      <td>Allen, Mr. William Henry</td>\n",
       "      <td>male</td>\n",
       "      <td>35.0</td>\n",
       "      <td>0</td>\n",
       "      <td>0</td>\n",
       "      <td>373450</td>\n",
       "      <td>8.0500</td>\n",
       "      <td>NaN</td>\n",
       "      <td>S</td>\n",
       "    </tr>\n",
       "  </tbody>\n",
       "</table>\n",
       "</div>"
      ],
      "text/plain": [
       "   PassengerId  Survived  Pclass  \\\n",
       "0            1         0       3   \n",
       "1            2         1       1   \n",
       "2            3         1       3   \n",
       "3            4         1       1   \n",
       "4            5         0       3   \n",
       "\n",
       "                                                Name     Sex   Age  SibSp  \\\n",
       "0                            Braund, Mr. Owen Harris    male  22.0      1   \n",
       "1  Cumings, Mrs. John Bradley (Florence Briggs Th...  female  38.0      1   \n",
       "2                             Heikkinen, Miss. Laina  female  26.0      0   \n",
       "3       Futrelle, Mrs. Jacques Heath (Lily May Peel)  female  35.0      1   \n",
       "4                           Allen, Mr. William Henry    male  35.0      0   \n",
       "\n",
       "   Parch            Ticket     Fare Cabin Embarked  \n",
       "0      0         A/5 21171   7.2500   NaN        S  \n",
       "1      0          PC 17599  71.2833   C85        C  \n",
       "2      0  STON/O2. 3101282   7.9250   NaN        S  \n",
       "3      0            113803  53.1000  C123        S  \n",
       "4      0            373450   8.0500   NaN        S  "
      ]
     },
     "execution_count": 3,
     "metadata": {},
     "output_type": "execute_result"
    }
   ],
   "source": [
    "train_df = pd.read_csv(\n",
    "    \"https://raw.githubusercontent.com/agconti/kaggle-titanic/master/data/train.csv\"\n",
    ")\n",
    "train_df.info()\n",
    "train_df.head()"
   ]
  },
  {
   "cell_type": "markdown",
   "metadata": {},
   "source": [
    "Look at the data info, we know that there are missing data at `Age`, `Cabin`, and `Embarked` columns. Although `Cabin` is an important feature (because the position of a cabin in the ship can affect the chance of people in that cabin to survive), we will skip it in this tutorial for simplicity. In the dataset, there are many categorical columns and two numerical columns `Age` and `Fare`. Let's first look at the distribution of those categorical columns:"
   ]
  },
  {
   "cell_type": "code",
   "execution_count": 4,
   "metadata": {},
   "outputs": [
    {
     "name": "stdout",
     "output_type": "stream",
     "text": [
      "0    549\n",
      "1    342\n",
      "Name: Survived, dtype: int64\n",
      "\n",
      "3    491\n",
      "1    216\n",
      "2    184\n",
      "Name: Pclass, dtype: int64\n",
      "\n",
      "male      577\n",
      "female    314\n",
      "Name: Sex, dtype: int64\n",
      "\n",
      "0    608\n",
      "1    209\n",
      "2     28\n",
      "4     18\n",
      "3     16\n",
      "8      7\n",
      "5      5\n",
      "Name: SibSp, dtype: int64\n",
      "\n",
      "0    678\n",
      "1    118\n",
      "2     80\n",
      "5      5\n",
      "3      5\n",
      "4      4\n",
      "6      1\n",
      "Name: Parch, dtype: int64\n",
      "\n",
      "S    644\n",
      "C    168\n",
      "Q     77\n",
      "Name: Embarked, dtype: int64\n",
      "\n"
     ]
    }
   ],
   "source": [
    "for col in [\"Survived\", \"Pclass\", \"Sex\", \"SibSp\", \"Parch\", \"Embarked\"]:\n",
    "    print(train_df[col].value_counts(), end=\"\\n\\n\")"
   ]
  },
  {
   "cell_type": "markdown",
   "metadata": {},
   "source": [
    "## Prepare data"
   ]
  },
  {
   "cell_type": "markdown",
   "metadata": {},
   "source": [
    "First, we will merge rare groups in `SibSp` and `Parch` columns together. In addition, we'll fill 2 missing entries in `Embarked` by the mode `S`. Note that we can make a generative model for those missing entries in `Embarked` but let's skip doing so for simplicity."
   ]
  },
  {
   "cell_type": "code",
   "execution_count": 5,
   "metadata": {},
   "outputs": [],
   "source": [
    "train_df.SibSp.clip(0, 1, inplace=True)\n",
    "train_df.Parch.clip(0, 2, inplace=True)\n",
    "train_df.Embarked.fillna(\"S\", inplace=True)"
   ]
  },
  {
   "cell_type": "markdown",
   "metadata": {},
   "source": [
    "Looking closer at the data, we can observe that each name contains a title. We know that age is correlated with the title of the name: e.g. those with Mrs. would be older than those with `Miss.` (on average) so it might be good to create that feature. The distribution of titles is:"
   ]
  },
  {
   "cell_type": "code",
   "execution_count": 6,
   "metadata": {},
   "outputs": [
    {
     "data": {
      "text/plain": [
       "Mr.          517\n",
       "Miss.        182\n",
       "Mrs.         125\n",
       "Master.       40\n",
       "Dr.            7\n",
       "Rev.           6\n",
       "Mlle.          2\n",
       "Major.         2\n",
       "Col.           2\n",
       "Don.           1\n",
       "Sir.           1\n",
       "Jonkheer.      1\n",
       "Capt.          1\n",
       "the            1\n",
       "Lady.          1\n",
       "Mme.           1\n",
       "Ms.            1\n",
       "Name: Name, dtype: int64"
      ]
     },
     "execution_count": 6,
     "metadata": {},
     "output_type": "execute_result"
    }
   ],
   "source": [
    "train_df.Name.str.split(\", \").str.get(1).str.split(\" \").str.get(0).value_counts()"
   ]
  },
  {
   "cell_type": "markdown",
   "metadata": {},
   "source": [
    "We will make a new column `Title`, where rare titles are merged into one group `Misc.`."
   ]
  },
  {
   "cell_type": "code",
   "execution_count": 7,
   "metadata": {},
   "outputs": [],
   "source": [
    "train_df[\"Title\"] = (\n",
    "    train_df.Name.str.split(\", \")\n",
    "    .str.get(1)\n",
    "    .str.split(\" \")\n",
    "    .str.get(0)\n",
    "    .apply(lambda x: x if x in [\"Mr.\", \"Miss.\", \"Mrs.\", \"Master.\"] else \"Misc.\")\n",
    ")"
   ]
  },
  {
   "cell_type": "markdown",
   "metadata": {},
   "source": [
    "Now, it is ready to turn the dataframe, which includes categorical values, into numpy arrays. We also perform standardization (a good practice for regression models) for `Age` column."
   ]
  },
  {
   "cell_type": "code",
   "execution_count": 8,
   "metadata": {},
   "outputs": [],
   "source": [
    "title_cat = pd.CategoricalDtype(\n",
    "    categories=[\"Mr.\", \"Miss.\", \"Mrs.\", \"Master.\", \"Misc.\"], ordered=True\n",
    ")\n",
    "embarked_cat = pd.CategoricalDtype(categories=[\"S\", \"C\", \"Q\"], ordered=True)\n",
    "age_mean, age_std = train_df.Age.mean(), train_df.Age.std()\n",
    "data = dict(\n",
    "    age=train_df.Age.pipe(lambda x: (x - age_mean) / age_std).values,\n",
    "    pclass=train_df.Pclass.values - 1,\n",
    "    title=train_df.Title.astype(title_cat).cat.codes.values,\n",
    "    sex=(train_df.Sex == \"male\").astype(int).values,\n",
    "    sibsp=train_df.SibSp.values,\n",
    "    parch=train_df.Parch.values,\n",
    "    embarked=train_df.Embarked.astype(embarked_cat).cat.codes.values,\n",
    ")\n",
    "survived = train_df.Survived.values\n",
    "# compute the age mean for each title\n",
    "age_notnan = data[\"age\"][jnp.isfinite(data[\"age\"])]\n",
    "title_notnan = data[\"title\"][jnp.isfinite(data[\"age\"])]\n",
    "age_mean_by_title = jnp.stack([age_notnan[title_notnan == i].mean() for i in range(5)])"
   ]
  },
  {
   "cell_type": "markdown",
   "metadata": {},
   "source": [
    "## Modelling"
   ]
  },
  {
   "cell_type": "markdown",
   "metadata": {},
   "source": [
    "First, we want to note that in NumPyro, the following models\n",
    "```python\n",
    "def model1a():\n",
    "    x = numpyro.sample(\"x\", dist.Normal(0, 1).expand([10])\n",
    "```\n",
    "and\n",
    "```python\n",
    "def model1b():\n",
    "    x = numpyro.sample(\"x\", dist.Normal(0, 1).expand([10].mask(False))\n",
    "    numpyro.sample(\"x_obs\", dist.Normal(0, 1).expand([10]), obs=x)\n",
    "```\n",
    "are equivalent in the sense that both of them have\n",
    "\n",
    "+ the same latent sites `x` drawn from `dist.Normal(0, 1)` prior,\n",
    "+ and the same log densities `dist.Normal(0, 1).log_prob(x)`.\n",
    "\n",
    "Now, assume that we observed the last 6 values of `x` (non-observed entries take value `NaN`), the typical model will be\n",
    "```python\n",
    "def model2a(x):\n",
    "    x_impute = numpyro.sample(\"x_impute\", dist.Normal(0, 1).expand([4]))\n",
    "    x_obs = numpyro.sample(\"x_obs\", dist.Normal(0, 1).expand([6]), obs=x[4:])\n",
    "    x_imputed = jnp.concatenate([x_impute, x_obs])\n",
    "```\n",
    "or with the usage of `mask`,\n",
    "```python\n",
    "def model2b(x):\n",
    "    x_impute = numpyro.sample(\"x_impute\", dist.Normal(0, 1).expand([4]).mask(False))\n",
    "    x_imputed = jnp.concatenate([x_impute, x[4:]])\n",
    "    numpyro.sample(\"x\", dist.Normal(0, 1).expand([10]), obs=x_imputed)\n",
    "```"
   ]
  },
  {
   "cell_type": "markdown",
   "metadata": {},
   "source": [
    "Both approaches to model the partial observed data `x` are equivalent. For the model below, we will use the latter method."
   ]
  },
  {
   "cell_type": "code",
   "execution_count": 9,
   "metadata": {},
   "outputs": [],
   "source": [
    "def model(age, pclass, title, sex, sibsp, parch, embarked, survived=None, bayesian_impute=True):\n",
    "    b_pclass = numpyro.sample(\"b_Pclass\", dist.Normal(0, 1).expand([3]))\n",
    "    b_title = numpyro.sample(\"b_Title\", dist.Normal(0, 1).expand([5]))\n",
    "    b_sex = numpyro.sample(\"b_Sex\", dist.Normal(0, 1).expand([2]))\n",
    "    b_sibsp = numpyro.sample(\"b_SibSp\", dist.Normal(0, 1).expand([2]))\n",
    "    b_parch = numpyro.sample(\"b_Parch\", dist.Normal(0, 1).expand([3]))\n",
    "    b_embarked = numpyro.sample(\"b_Embarked\", dist.Normal(0, 1).expand([3]))\n",
    "\n",
    "    # impute age by Title\n",
    "    isnan = np.isnan(age)\n",
    "    age_nanidx = np.nonzero(isnan)[0]\n",
    "    if bayesian_impute:\n",
    "        age_mu = numpyro.sample(\"age_mu\", dist.Normal(0, 1).expand([5]))\n",
    "        age_mu = age_mu[title]\n",
    "        age_sigma = numpyro.sample(\"age_sigma\", dist.Normal(0, 1).expand([5]))\n",
    "        age_sigma = age_sigma[title]\n",
    "        age_impute = numpyro.sample(\n",
    "            \"age_impute\", dist.Normal(age_mu[age_nanidx], age_sigma[age_nanidx]).mask(False)\n",
    "        )\n",
    "        age = ops.index_update(age, age_nanidx, age_impute)\n",
    "        numpyro.sample(\"age\", dist.Normal(age_mu, age_sigma), obs=age)\n",
    "    else: \n",
    "        # fill missing data by the mean of ages for each title\n",
    "        age_impute = age_mean_by_title[title][age_nanidx]\n",
    "        age = ops.index_update(age, age_nanidx, age_impute)\n",
    "\n",
    "    a = numpyro.sample(\"a\", dist.Normal(0, 1))\n",
    "    b_age = numpyro.sample(\"b_Age\", dist.Normal(0, 1))\n",
    "    logits = a + b_age * age\n",
    "    logits = logits + b_title[title] + b_pclass[pclass] + b_sex[sex]\n",
    "    logits = logits + b_sibsp[sibsp] + b_parch[parch] + b_embarked[embarked]\n",
    "    numpyro.sample(\"survived\", dist.Bernoulli(logits=logits), obs=survived)"
   ]
  },
  {
   "cell_type": "markdown",
   "metadata": {},
   "source": [
    "Note that in the model, the prior for `age` is `dist.Normal(age_mu, age_sigma)`, where the values of `age_mu` and `age_sigma` depend on `title`. Because there are missing values in `age`, we will encode those missing values in the latent parameter `age_impute`. Then we can replace `NaN` entries in `age` with the vector `age_impute`."
   ]
  },
  {
   "cell_type": "markdown",
   "metadata": {},
   "source": [
    "## Sampling"
   ]
  },
  {
   "cell_type": "markdown",
   "metadata": {},
   "source": [
    "We will use MCMC with NUTS kernel to sample both regression coefficients and imputed values."
   ]
  },
  {
   "cell_type": "code",
   "execution_count": 10,
   "metadata": {},
   "outputs": [
    {
     "name": "stderr",
     "output_type": "stream",
     "text": [
      "sample: 100%|█| 2000/2000 [00:19<00:00, 101.26it/s, 63 steps of size 6.41e-02. \n"
     ]
    },
    {
     "name": "stdout",
     "output_type": "stream",
     "text": [
      "\n",
      "                     mean       std    median      5.0%     95.0%     n_eff     r_hat\n",
      "              a      0.18      0.80      0.19     -1.13      1.50   1047.78      1.00\n",
      "  age_impute[0]      0.22      0.83      0.25     -1.15      1.57   1920.49      1.00\n",
      "  age_impute[1]     -0.10      0.84     -0.09     -1.38      1.39   1510.22      1.00\n",
      "  age_impute[2]      0.36      0.80      0.34     -0.94      1.65   1413.99      1.00\n",
      "  age_impute[3]      0.23      0.87      0.23     -1.22      1.64   1758.06      1.00\n",
      "  age_impute[4]     -0.65      0.91     -0.60     -2.07      0.89   1969.16      1.00\n",
      "  age_impute[5]      0.23      0.89      0.25     -1.17      1.69   2121.99      1.00\n",
      "  age_impute[6]      0.44      0.79      0.44     -0.84      1.62   1608.88      1.00\n",
      "  age_impute[7]     -0.66      0.90     -0.65     -2.02      0.91   2188.87      1.00\n",
      "  age_impute[8]     -0.09      0.88     -0.07     -1.65      1.20   1569.98      1.00\n",
      "  age_impute[9]      0.22      0.88      0.25     -1.32      1.59   1476.46      1.00\n",
      " age_impute[10]      0.21      0.87      0.19     -1.22      1.64   2108.10      1.00\n",
      " age_impute[11]      0.16      0.85      0.17     -1.25      1.54   1721.58      1.00\n",
      " age_impute[12]     -0.66      0.89     -0.63     -2.02      0.87   1777.55      1.00\n",
      " age_impute[13]      0.20      0.91      0.18     -1.29      1.69   2267.68      1.00\n",
      " age_impute[14]     -0.01      0.86      0.00     -1.38      1.41   1810.51      1.00\n",
      " age_impute[15]      0.37      0.84      0.39     -1.11      1.60   1436.17      1.00\n",
      " age_impute[16]     -1.73      0.25     -1.74     -2.12     -1.30   2040.47      1.00\n",
      " age_impute[17]      0.23      0.86      0.22     -1.26      1.60   1254.60      1.00\n",
      " age_impute[18]      0.22      0.89      0.24     -1.19      1.78   1893.83      1.00\n",
      " age_impute[19]     -0.68      0.87     -0.67     -2.10      0.75   2164.88      1.00\n",
      " age_impute[20]      0.22      0.90      0.27     -1.38      1.58   1690.61      1.00\n",
      " age_impute[21]      0.19      0.90      0.21     -1.16      1.66   1771.68      1.00\n",
      " age_impute[22]      0.19      0.92      0.22     -1.32      1.65   1445.51      1.00\n",
      " age_impute[23]     -0.14      0.85     -0.15     -1.55      1.22   1649.59      1.00\n",
      " age_impute[24]     -0.67      0.89     -0.66     -2.08      0.79   1591.97      1.00\n",
      " age_impute[25]      0.17      0.89      0.20     -1.36      1.52   1404.16      1.00\n",
      " age_impute[26]      0.19      0.84      0.21     -1.18      1.53   1542.96      1.00\n",
      " age_impute[27]     -0.70      0.89     -0.67     -2.14      0.77   1595.55      1.00\n",
      " age_impute[28]      0.60      0.77      0.61     -0.73      1.75   1824.29      1.00\n",
      " age_impute[29]      0.24      0.85      0.25     -1.08      1.61   2139.69      1.00\n",
      " age_impute[30]      0.22      0.84      0.23     -1.07      1.67   2285.15      1.00\n",
      " age_impute[31]     -1.72      0.27     -1.72     -2.16     -1.28   2684.47      1.00\n",
      " age_impute[32]      0.43      0.86      0.42     -0.88      1.86   1303.52      1.00\n",
      " age_impute[33]      0.33      0.87      0.30     -1.07      1.73   2045.08      1.00\n",
      " age_impute[34]     -1.72      0.28     -1.73     -2.15     -1.27   2064.94      1.00\n",
      " age_impute[35]     -0.43      0.86     -0.43     -1.87      0.93   1500.36      1.00\n",
      " age_impute[36]      0.29      0.87      0.28     -1.11      1.69   1860.41      1.00\n",
      " age_impute[37]      0.30      0.83      0.34     -0.94      1.78   1996.44      1.00\n",
      " age_impute[38]      0.35      0.79      0.33     -0.84      1.69   2227.20      1.00\n",
      " age_impute[39]      0.20      0.92      0.17     -1.29      1.77   1260.76      1.00\n",
      " age_impute[40]     -0.65      0.90     -0.67     -2.18      0.72   1925.72      1.00\n",
      " age_impute[41]      0.19      0.86      0.20     -1.20      1.53   2114.44      1.00\n",
      " age_impute[42]      0.23      0.89      0.23     -1.33      1.61   1877.58      1.00\n",
      " age_impute[43]      0.22      0.81      0.23     -1.18      1.50   1666.52      1.00\n",
      " age_impute[44]     -0.40      0.94     -0.41     -1.81      1.27   1538.35      1.00\n",
      " age_impute[45]     -0.35      0.88     -0.34     -1.81      1.00   1283.28      1.00\n",
      " age_impute[46]     -0.30      0.91     -0.29     -1.87      1.14   1372.05      1.00\n",
      " age_impute[47]     -0.72      0.91     -0.73     -2.13      0.80   1476.31      1.00\n",
      " age_impute[48]      0.21      0.89      0.22     -1.19      1.79   2294.56      1.00\n",
      " age_impute[49]      0.42      0.78      0.43     -0.88      1.61   1792.05      1.00\n",
      " age_impute[50]      0.23      0.86      0.24     -1.26      1.52   1931.04      1.00\n",
      " age_impute[51]     -0.29      0.88     -0.35     -1.55      1.25   2174.30      1.00\n",
      " age_impute[52]      0.36      0.83      0.35     -1.10      1.59   1961.54      1.00\n",
      " age_impute[53]     -0.67      0.94     -0.68     -2.16      0.80   1564.32      1.00\n",
      " age_impute[54]      0.24      0.88      0.24     -1.09      1.73   2263.36      1.00\n",
      " age_impute[55]      0.32      0.87      0.34     -0.99      1.80   1364.82      1.00\n",
      " age_impute[56]      0.38      0.78      0.38     -0.78      1.69   1353.83      1.00\n",
      " age_impute[57]     -0.00      0.81     -0.01     -1.31      1.32   1530.01      1.00\n",
      " age_impute[58]     -0.69      0.92     -0.67     -2.16      0.75   1742.60      1.00\n",
      " age_impute[59]     -0.13      0.89     -0.12     -1.64      1.18   1623.52      1.00\n",
      " age_impute[60]     -0.62      0.90     -0.60     -2.00      0.86   1937.38      1.00\n",
      " age_impute[61]      0.22      0.84      0.24     -1.14      1.56   1703.31      1.00\n",
      " age_impute[62]     -0.59      0.93     -0.61     -2.25      0.83   1508.11      1.00\n",
      " age_impute[63]      0.21      0.85      0.22     -1.21      1.59   1548.00      1.00\n",
      " age_impute[64]     -0.69      0.88     -0.66     -2.21      0.67   1680.49      1.00\n",
      " age_impute[65]      0.42      0.74      0.43     -0.75      1.66   1255.29      1.00\n",
      " age_impute[66]      0.24      0.94      0.21     -1.38      1.70   2551.51      1.00\n",
      " age_impute[67]      0.33      0.72      0.33     -0.79      1.58   1795.23      1.00\n",
      " age_impute[68]      0.34      0.87      0.35     -1.00      1.86   1554.77      1.00\n",
      " age_impute[69]      0.23      0.91      0.23     -1.26      1.71   1502.40      1.00\n",
      " age_impute[70]     -0.66      0.88     -0.65     -2.11      0.73   1671.85      1.00\n",
      " age_impute[71]     -0.67      0.86     -0.69     -2.18      0.62   1667.37      1.00\n",
      " age_impute[72]      0.17      0.84      0.18     -1.13      1.53   1551.57      1.00\n",
      " age_impute[73]      0.37      0.76      0.37     -0.92      1.65   1729.26      1.00\n",
      " age_impute[74]     -0.67      0.92     -0.68     -2.15      0.85   1529.28      1.00\n",
      " age_impute[75]      0.43      0.84      0.42     -0.87      1.86   1268.87      1.00\n",
      " age_impute[76]      0.20      0.85      0.22     -1.31      1.54   1999.68      1.00\n",
      " age_impute[77]      0.18      0.86      0.15     -1.22      1.56   1777.69      1.00\n",
      " age_impute[78]     -0.42      0.86     -0.43     -1.87      0.94   1997.33      1.00\n",
      " age_impute[79]      0.20      0.84      0.20     -1.11      1.65   2156.96      1.00\n",
      " age_impute[80]      0.25      0.84      0.23     -1.10      1.68   1649.00      1.00\n",
      " age_impute[81]      0.26      0.87      0.28     -1.24      1.68   2376.04      1.00\n",
      " age_impute[82]      0.62      0.83      0.62     -0.69      2.02   1649.95      1.00\n",
      " age_impute[83]      0.21      0.86      0.21     -1.08      1.61   2074.06      1.00\n",
      " age_impute[84]      0.21      0.86      0.19     -1.30      1.56   1507.61      1.00\n",
      " age_impute[85]      0.25      0.88      0.24     -1.09      1.82   2546.74      1.00\n",
      " age_impute[86]      0.31      0.76      0.31     -0.97      1.57   1644.98      1.00\n",
      " age_impute[87]     -0.13      0.88     -0.10     -1.57      1.40   2031.94      1.00\n",
      " age_impute[88]      0.22      0.90      0.25     -1.27      1.67   1905.66      1.00\n",
      " age_impute[89]      0.23      0.94      0.22     -1.33      1.74   2793.27      1.00\n",
      " age_impute[90]      0.40      0.81      0.37     -0.92      1.71   1634.45      1.00\n",
      " age_impute[91]      0.24      0.91      0.25     -1.39      1.61   2173.36      1.00\n",
      " age_impute[92]      0.19      0.82      0.17     -1.07      1.53   1911.06      1.00\n",
      " age_impute[93]      0.24      0.89      0.26     -1.28      1.60   1799.27      1.00\n",
      " age_impute[94]      0.21      0.92      0.18     -1.29      1.72   2137.22      1.00\n",
      " age_impute[95]      0.21      0.89      0.23     -1.20      1.74   2027.53      1.00\n",
      " age_impute[96]      0.34      0.90      0.33     -1.10      1.83   1744.80      1.00\n",
      " age_impute[97]      0.26      0.88      0.25     -1.24      1.61   1838.96      1.00\n",
      " age_impute[98]     -0.39      0.92     -0.40     -1.84      1.09   1820.70      1.00\n",
      " age_impute[99]      0.16      0.91      0.15     -1.22      1.69   1509.85      1.00\n",
      "age_impute[100]      0.23      0.86      0.21     -1.14      1.64   1890.07      1.00\n",
      "age_impute[101]      0.20      0.88      0.21     -1.16      1.75   2003.30      1.00\n",
      "age_impute[102]     -0.30      0.90     -0.29     -1.77      1.16   1974.93      1.00\n",
      "age_impute[103]      0.00      0.85      0.00     -1.36      1.39   1520.16      1.00\n",
      "age_impute[104]      0.26      0.90      0.27     -1.41      1.57   1384.08      1.00\n",
      "age_impute[105]      0.25      0.86      0.27     -1.13      1.72   1525.31      1.00\n",
      "age_impute[106]      0.25      0.86      0.24     -1.11      1.74   2300.88      1.00\n",
      "age_impute[107]      0.21      0.89      0.22     -1.18      1.68   1488.94      1.00\n",
      "age_impute[108]      0.34      0.86      0.37     -1.01      1.75   1845.69      1.00\n",
      "age_impute[109]      0.27      0.88      0.24     -1.04      1.87   1379.02      1.00\n",
      "age_impute[110]      0.33      0.75      0.36     -0.94      1.43   1376.82      1.00\n",
      "age_impute[111]      0.21      0.87      0.23     -1.29      1.61   2408.10      1.00\n",
      "age_impute[112]     -0.03      0.87     -0.03     -1.43      1.46   1747.74      1.00\n",
      "age_impute[113]      0.22      0.87      0.22     -1.31      1.53   1415.99      1.00\n",
      "age_impute[114]      0.38      0.80      0.36     -0.87      1.70   1237.46      1.00\n",
      "age_impute[115]      0.20      0.88      0.19     -1.20      1.68   1909.77      1.00\n",
      "age_impute[116]      0.25      0.87      0.20     -1.17      1.64   1441.94      1.00\n",
      "age_impute[117]     -0.35      0.91     -0.37     -1.94      1.09   1821.47      1.00\n",
      "age_impute[118]      0.22      0.94      0.23     -1.13      2.03   2485.90      1.00\n",
      "age_impute[119]     -0.64      0.92     -0.67     -2.00      0.98   1569.24      1.00\n",
      "age_impute[120]      0.60      0.79      0.58     -0.59      1.99   1354.74      1.00\n",
      "age_impute[121]      0.21      0.85      0.23     -1.16      1.60   2141.40      1.00\n",
      "age_impute[122]      0.22      0.81      0.19     -1.22      1.49   2260.25      1.00\n",
      "age_impute[123]     -0.38      0.93     -0.40     -2.13      0.97   1618.61      1.00\n",
      "age_impute[124]     -0.61      0.93     -0.64     -2.22      0.78   1447.45      1.00\n",
      "age_impute[125]      0.24      0.90      0.22     -1.17      1.67   2125.08      1.00\n",
      "age_impute[126]      0.21      0.83      0.22     -1.01      1.74   2209.98      1.00\n",
      "age_impute[127]      0.36      0.86      0.35     -0.98      1.80   2077.75      1.00\n",
      "age_impute[128]      0.24      0.90      0.25     -1.16      1.73   1498.07      1.00\n",
      "age_impute[129]     -0.72      0.88     -0.73     -2.27      0.62   1619.30      1.00\n",
      "age_impute[130]      0.19      0.85      0.17     -1.19      1.64   1761.41      1.00\n",
      "age_impute[131]      0.25      0.88      0.24     -1.03      1.84   2068.41      1.00\n",
      "age_impute[132]      0.32      0.86      0.32     -1.15      1.69   1831.41      1.00\n",
      "age_impute[133]      0.23      0.90      0.22     -1.22      1.71   1454.80      1.01\n",
      "age_impute[134]     -0.10      0.91     -0.12     -1.50      1.46   1813.89      1.00\n",
      "age_impute[135]      0.23      0.84      0.26     -1.06      1.68   1727.53      1.00\n",
      "age_impute[136]      0.18      0.86      0.19     -1.22      1.58   2081.66      1.00\n",
      "age_impute[137]     -0.69      0.88     -0.64     -2.21      0.72   2596.65      1.00\n",
      "age_impute[138]      0.19      0.94      0.20     -1.47      1.56   2047.37      1.00\n",
      "age_impute[139]      0.20      0.87      0.21     -1.14      1.67   1913.30      1.00\n",
      "age_impute[140]      0.39      0.79      0.40     -0.88      1.66   2400.71      1.00\n",
      "age_impute[141]      0.25      0.91      0.23     -1.20      1.71   1896.75      1.00\n",
      "age_impute[142]     -0.32      0.93     -0.33     -2.05      1.03   2414.86      1.00\n",
      "age_impute[143]     -0.14      0.87     -0.14     -1.57      1.14   2135.29      1.00\n",
      "age_impute[144]     -0.68      0.94     -0.68     -2.21      0.79   1979.39      1.00\n",
      "age_impute[145]     -1.75      0.25     -1.75     -2.18     -1.36   1636.72      1.00\n",
      "age_impute[146]      0.35      0.83      0.34     -1.02      1.64   1747.92      1.00\n",
      "age_impute[147]      0.26      0.88      0.27     -1.17      1.66   1551.91      1.00\n",
      "age_impute[148]     -0.67      0.88     -0.63     -2.05      0.80   2166.41      1.00\n",
      "age_impute[149]      0.29      0.83      0.29     -1.13      1.56   2138.18      1.00\n",
      "age_impute[150]      0.23      0.87      0.24     -1.23      1.58   2148.43      1.00\n",
      "age_impute[151]      0.21      0.87      0.20     -1.15      1.66   1749.03      1.00\n",
      "age_impute[152]      0.03      0.85      0.03     -1.43      1.25   2610.88      1.00\n",
      "age_impute[153]      0.19      0.91      0.22     -1.53      1.52   2486.11      1.00\n",
      "age_impute[154]      1.06      0.94      1.05     -0.63      2.45   1467.09      1.00\n",
      "age_impute[155]      0.22      0.81      0.22     -1.05      1.54   1418.19      1.00\n",
      "age_impute[156]      0.26      0.95      0.26     -1.28      1.88   1659.29      1.00\n",
      "age_impute[157]      0.22      0.90      0.20     -1.20      1.76   1769.61      1.00\n",
      "age_impute[158]      0.22      0.87      0.19     -1.01      1.86   1656.09      1.00\n",
      "age_impute[159]      0.20      0.91      0.22     -1.23      1.65   1679.93      1.00\n",
      "age_impute[160]      0.18      0.83      0.16     -1.11      1.51   1422.40      1.00\n",
      "age_impute[161]     -0.49      0.93     -0.53     -1.87      1.15   1349.98      1.00\n",
      "age_impute[162]      0.37      0.84      0.37     -0.97      1.75   2166.04      1.00\n",
      "age_impute[163]      0.31      0.84      0.28     -1.00      1.77   1589.42      1.00\n",
      "age_impute[164]      0.22      0.85      0.23     -1.12      1.74   1960.90      1.00\n",
      "age_impute[165]      0.22      0.88      0.23     -1.18      1.55   2342.64      1.00\n",
      "age_impute[166]     -0.10      0.87     -0.10     -1.49      1.37   1895.17      1.00\n",
      "age_impute[167]      0.21      0.89      0.20     -1.04      1.79   1808.85      1.00\n",
      "age_impute[168]      0.20      0.83      0.20     -1.16      1.56   1544.82      1.00\n",
      "age_impute[169]      0.02      0.88      0.00     -1.41      1.41   2312.74      1.00\n",
      "age_impute[170]      0.16      0.86      0.19     -1.18      1.62   1855.83      1.00\n",
      "age_impute[171]      0.41      0.84      0.40     -0.94      1.80   1904.70      1.00\n",
      "age_impute[172]      0.24      0.89      0.23     -1.24      1.54   1841.37      1.00\n",
      "age_impute[173]     -0.45      0.87     -0.48     -1.90      0.92   2221.72      1.00\n",
      "age_impute[174]      0.23      0.82      0.25     -1.23      1.44   2133.97      1.00\n",
      "age_impute[175]      0.21      0.95      0.25     -1.51      1.65   2039.05      1.00\n",
      "age_impute[176]     -0.44      0.89     -0.41     -1.81      1.05   2220.08      1.00\n",
      "      age_mu[0]      0.19      0.04      0.19      0.12      0.26   1373.89      1.00\n",
      "      age_mu[1]     -0.55      0.08     -0.55     -0.68     -0.43   1194.80      1.00\n",
      "      age_mu[2]      0.42      0.08      0.42      0.30      0.56   1081.63      1.00\n",
      "      age_mu[3]     -1.73      0.04     -1.73     -1.80     -1.65   1158.35      1.00\n",
      "      age_mu[4]      0.85      0.18      0.85      0.54      1.14   1129.00      1.00\n",
      "   age_sigma[0]      0.88      0.03      0.88      0.83      0.93    563.69      1.00\n",
      "   age_sigma[1]      0.90      0.05      0.90      0.82      0.98   1127.13      1.00\n",
      "   age_sigma[2]      0.79      0.05      0.79      0.70      0.88   1099.50      1.00\n",
      "   age_sigma[3]      0.26      0.03      0.25      0.20      0.30   1358.48      1.00\n",
      "   age_sigma[4]      0.94      0.13      0.92      0.74      1.15   1223.08      1.00\n",
      "          b_Age     -0.44      0.13     -0.44     -0.64     -0.23    864.62      1.00\n",
      "  b_Embarked[0]     -0.29      0.53     -0.30     -1.16      0.59    518.87      1.00\n",
      "  b_Embarked[1]      0.28      0.54      0.28     -0.69      1.07    573.20      1.00\n",
      "  b_Embarked[2]      0.01      0.55      0.00     -0.98      0.77    520.23      1.00\n",
      "     b_Parch[0]      0.44      0.57      0.46     -0.50      1.38    528.33      1.00\n",
      "     b_Parch[1]      0.10      0.57      0.09     -0.85      1.04    553.60      1.00\n",
      "     b_Parch[2]     -0.49      0.57     -0.47     -1.34      0.46    553.40      1.00\n",
      "    b_Pclass[0]      1.16      0.56      1.17      0.31      2.11    485.54      1.00\n",
      "    b_Pclass[1]      0.02      0.55      0.02     -0.94      0.88    486.91      1.00\n",
      "    b_Pclass[2]     -1.23      0.56     -1.21     -2.17     -0.37    482.23      1.00\n",
      "       b_Sex[0]      1.18      0.71      1.16      0.01      2.35    721.68      1.00\n",
      "       b_Sex[1]     -1.00      0.69     -1.01     -2.15      0.11    838.80      1.00\n",
      "     b_SibSp[0]      0.27      0.63      0.28     -0.76      1.28    726.57      1.00\n",
      "     b_SibSp[1]     -0.18      0.64     -0.17     -1.17      0.88    733.90      1.00\n",
      "     b_Title[0]     -0.96      0.57     -0.96     -1.96     -0.10    513.49      1.00\n",
      "     b_Title[1]     -0.34      0.62     -0.34     -1.39      0.63    655.77      1.00\n",
      "     b_Title[2]      0.54      0.63      0.52     -0.40      1.59    623.79      1.00\n",
      "     b_Title[3]      1.45      0.64      1.48      0.33      2.37    686.62      1.00\n",
      "     b_Title[4]     -0.66      0.62     -0.69     -1.58      0.46    618.61      1.00\n",
      "\n",
      "Number of divergences: 0\n"
     ]
    }
   ],
   "source": [
    "mcmc = MCMC(NUTS(model), 1000, 1000)\n",
    "mcmc.run(random.PRNGKey(0), **data, survived=survived)\n",
    "mcmc.print_summary()"
   ]
  },
  {
   "cell_type": "markdown",
   "metadata": {},
   "source": [
    "To double check that the assumption \"age is correlated with title\" is reasonable, let's look at the infered age by title. Recall that we performed standarization on `age`, so here we need to scale back to original domain."
   ]
  },
  {
   "cell_type": "code",
   "execution_count": 11,
   "metadata": {},
   "outputs": [
    {
     "data": {
      "text/plain": [
       "{'Mr.': 32.433537,\n",
       " 'Miss.': 21.755384,\n",
       " 'Mrs.': 35.848316,\n",
       " 'Master.': 4.623419,\n",
       " 'Misc.': 42.068104}"
      ]
     },
     "execution_count": 11,
     "metadata": {},
     "output_type": "execute_result"
    }
   ],
   "source": [
    "age_by_title = age_mean + age_std * mcmc.get_samples()[\"age_mu\"].mean(axis=0)\n",
    "dict(zip(title_cat.categories, age_by_title))"
   ]
  },
  {
   "cell_type": "markdown",
   "metadata": {},
   "source": [
    "The infered result confirms our assumption that `Age` is correlated with `Title`:\n",
    "\n",
    "+ those with `Master.` title has pretty small age (in other words, they are children in the ship) comparing to the other groups,\n",
    "+ those with `Mrs.` title have larger age than those with `Miss.` title (in average).\n",
    "\n",
    "We can also see that the result is similar to the actual statistical mean of `Age` given `Title` in our training dataset:"
   ]
  },
  {
   "cell_type": "code",
   "execution_count": 12,
   "metadata": {},
   "outputs": [
    {
     "data": {
      "text/plain": [
       "Title\n",
       "Master.     4.574167\n",
       "Misc.      42.384615\n",
       "Miss.      21.773973\n",
       "Mr.        32.368090\n",
       "Mrs.       35.898148\n",
       "Name: Age, dtype: float64"
      ]
     },
     "execution_count": 12,
     "metadata": {},
     "output_type": "execute_result"
    }
   ],
   "source": [
    "train_df.groupby(\"Title\")[\"Age\"].mean()"
   ]
  },
  {
   "cell_type": "markdown",
   "metadata": {},
   "source": [
    "So far so good, we have many information about the regression coefficients together with imputed values and their uncertainties. Let's inspect those results a bit:\n",
    "\n",
    "+ The mean value `-0.44` of `b_Age` implies that those with smaller ages have better chance to survive.\n",
    "+ The mean value `(1.11, -1.07)` of `b_Sex` implies that female passengers have higher chance to survive than male passengers."
   ]
  },
  {
   "cell_type": "markdown",
   "metadata": {},
   "source": [
    "## Prediction"
   ]
  },
  {
   "cell_type": "markdown",
   "metadata": {},
   "source": [
    "In NumPyro, we can use [Predictive](http://num.pyro.ai/en/stable/utilities.html#numpyro.infer.util.Predictive) utility for making predictions from posterior samples. Let's check how well the model performs on the training dataset. For simplicity, we will get a `survived` prediction for each posterior sample and perform the majority rule on the predictions."
   ]
  },
  {
   "cell_type": "code",
   "execution_count": 13,
   "metadata": {},
   "outputs": [
    {
     "name": "stdout",
     "output_type": "stream",
     "text": [
      "Accuracy: 0.82828283\n"
     ]
    },
    {
     "data": {
      "text/html": [
       "<div>\n",
       "<style scoped>\n",
       "    .dataframe tbody tr th:only-of-type {\n",
       "        vertical-align: middle;\n",
       "    }\n",
       "\n",
       "    .dataframe tbody tr th {\n",
       "        vertical-align: top;\n",
       "    }\n",
       "\n",
       "    .dataframe thead th {\n",
       "        text-align: right;\n",
       "    }\n",
       "</style>\n",
       "<table border=\"1\" class=\"dataframe\">\n",
       "  <thead>\n",
       "    <tr style=\"text-align: right;\">\n",
       "      <th>predict</th>\n",
       "      <th>0</th>\n",
       "      <th>1</th>\n",
       "    </tr>\n",
       "    <tr>\n",
       "      <th>actual</th>\n",
       "      <th></th>\n",
       "      <th></th>\n",
       "    </tr>\n",
       "  </thead>\n",
       "  <tbody>\n",
       "    <tr>\n",
       "      <th>0</th>\n",
       "      <td>0.877960</td>\n",
       "      <td>0.195906</td>\n",
       "    </tr>\n",
       "    <tr>\n",
       "      <th>1</th>\n",
       "      <td>0.156648</td>\n",
       "      <td>0.748538</td>\n",
       "    </tr>\n",
       "  </tbody>\n",
       "</table>\n",
       "</div>"
      ],
      "text/plain": [
       "predict         0         1\n",
       "actual                     \n",
       "0        0.877960  0.195906\n",
       "1        0.156648  0.748538"
      ]
     },
     "execution_count": 13,
     "metadata": {},
     "output_type": "execute_result"
    }
   ],
   "source": [
    "posterior = mcmc.get_samples()\n",
    "survived_pred = Predictive(model, posterior)(random.PRNGKey(1), **data)[\"survived\"]\n",
    "survived_pred = (survived_pred.mean(axis=0) >= 0.5).astype(jnp.uint8)\n",
    "print(\"Accuracy:\", (survived_pred == survived).sum() / survived.shape[0])\n",
    "confusion_matrix = pd.crosstab(\n",
    "    pd.Series(survived, name=\"actual\"), pd.Series(survived_pred, name=\"predict\")\n",
    ")\n",
    "confusion_matrix / confusion_matrix.sum(axis=1)"
   ]
  },
  {
   "cell_type": "markdown",
   "metadata": {},
   "source": [
    "This is a pretty good result using a simple logistic regression model. Let's see how the model performs if we don't use Bayesian imputation here."
   ]
  },
  {
   "cell_type": "code",
   "execution_count": 14,
   "metadata": {},
   "outputs": [
    {
     "name": "stderr",
     "output_type": "stream",
     "text": [
      "sample: 100%|█| 2000/2000 [00:13<00:00, 143.01it/s, 63 steps of size 6.63e-02. \n"
     ]
    },
    {
     "name": "stdout",
     "output_type": "stream",
     "text": [
      "Accuracy: 0.8215488\n"
     ]
    },
    {
     "data": {
      "text/html": [
       "<div>\n",
       "<style scoped>\n",
       "    .dataframe tbody tr th:only-of-type {\n",
       "        vertical-align: middle;\n",
       "    }\n",
       "\n",
       "    .dataframe tbody tr th {\n",
       "        vertical-align: top;\n",
       "    }\n",
       "\n",
       "    .dataframe thead th {\n",
       "        text-align: right;\n",
       "    }\n",
       "</style>\n",
       "<table border=\"1\" class=\"dataframe\">\n",
       "  <thead>\n",
       "    <tr style=\"text-align: right;\">\n",
       "      <th>predict</th>\n",
       "      <th>0</th>\n",
       "      <th>1</th>\n",
       "    </tr>\n",
       "    <tr>\n",
       "      <th>actual</th>\n",
       "      <th></th>\n",
       "      <th></th>\n",
       "    </tr>\n",
       "  </thead>\n",
       "  <tbody>\n",
       "    <tr>\n",
       "      <th>0</th>\n",
       "      <td>0.872495</td>\n",
       "      <td>0.204678</td>\n",
       "    </tr>\n",
       "    <tr>\n",
       "      <th>1</th>\n",
       "      <td>0.162113</td>\n",
       "      <td>0.739766</td>\n",
       "    </tr>\n",
       "  </tbody>\n",
       "</table>\n",
       "</div>"
      ],
      "text/plain": [
       "predict         0         1\n",
       "actual                     \n",
       "0        0.872495  0.204678\n",
       "1        0.162113  0.739766"
      ]
     },
     "execution_count": 14,
     "metadata": {},
     "output_type": "execute_result"
    }
   ],
   "source": [
    "mcmc.run(random.PRNGKey(2), **data, survived=survived, bayesian_impute=False)\n",
    "posterior_1 = mcmc.get_samples()\n",
    "survived_pred_1 = Predictive(model, posterior_1)(random.PRNGKey(2), **data)[\"survived\"]\n",
    "survived_pred_1 = (survived_pred_1.mean(axis=0) >= 0.5).astype(jnp.uint8)\n",
    "print(\"Accuracy:\", (survived_pred_1 == survived).sum() / survived.shape[0])\n",
    "confusion_matrix = pd.crosstab(\n",
    "    pd.Series(survived, name=\"actual\"), pd.Series(survived_pred_1, name=\"predict\")\n",
    ")\n",
    "confusion_matrix / confusion_matrix.sum(axis=1)\n",
    "confusion_matrix = pd.crosstab(\n",
    "    pd.Series(survived, name=\"actual\"), pd.Series(survived_pred_1, name=\"predict\")\n",
    ")\n",
    "confusion_matrix / confusion_matrix.sum(axis=1)"
   ]
  },
  {
   "cell_type": "markdown",
   "metadata": {},
   "source": [
    "We can see that Bayesian imputation does a little bit better here."
   ]
  },
  {
   "cell_type": "markdown",
   "metadata": {},
   "source": [
    "**Remark.** When using `posterior` samples to perform prediction on the new data, we need to marginalize out `age_impute` because those imputing values are specific to the training data:\n",
    "```python\n",
    "posterior.pop(\"age_impute\")\n",
    "survived_pred = Predictive(model, posterior)(random.PRNGKey(3), **new_data)\n",
    "```"
   ]
  },
  {
   "cell_type": "markdown",
   "metadata": {},
   "source": [
    "## References\n",
    "\n",
    "1. McElreath, R. (2016). Statistical Rethinking: A Bayesian Course with Examples in R and Stan.\n",
    "2. Kaggle competition: [Titanic: Machine Learning from Disaster](https://www.kaggle.com/c/titanic)"
   ]
  }
 ],
 "metadata": {
  "@webio": {
   "lastCommId": null,
   "lastKernelId": null
  },
  "kernelspec": {
   "display_name": "Python 3",
   "language": "python",
   "name": "python3"
  },
  "language_info": {
   "codemirror_mode": {
    "name": "ipython",
    "version": 3
   },
   "file_extension": ".py",
   "mimetype": "text/x-python",
   "name": "python",
   "nbconvert_exporter": "python",
   "pygments_lexer": "ipython3",
   "version": "3.8.5"
  }
 },
 "nbformat": 4,
 "nbformat_minor": 4
}
